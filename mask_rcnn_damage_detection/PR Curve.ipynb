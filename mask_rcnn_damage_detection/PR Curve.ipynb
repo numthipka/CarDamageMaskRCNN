{
 "cells": [
  {
   "cell_type": "code",
   "execution_count": null,
   "metadata": {},
   "outputs": [],
   "source": [
    "path = os.getcwd()\n",
    "model_tar = \"nuclei_datasets.tar.gz\"\n",
    "data_path = os.path.join(path + '/nuclei_datasets')\n",
    "model_path = os.path.join(path + '/logs/nucleus')\n",
    "weights_path = os.path.join(model_path + '/mask_rcnn_nucleus.h5') #My weights file\n",
    "\n",
    "DEVICE = \"/gpu:0\" \n",
    "\n",
    "config = nucleus.NucleusConfig()\n",
    "class InferenceConfig(config.__class__):\n",
    "    # Run detection on one image at a time\n",
    "    GPU_COUNT = 1\n",
    "    IMAGES_PER_GPU = 1\n",
    "\n",
    "config = InferenceConfig()\n",
    "dataset = nucleus.NucleusDataset()\n",
    "\n",
    "with tf.device(DEVICE):\n",
    "    model = modellib.MaskRCNN(mode=\"inference\", model_dir=model_path, config=config)\n",
    "\n",
    "model.load_weights(weights_path, by_name=True)\n",
    "\n",
    "\n",
    "def compute_batch_ap(image_ids):\n",
    "    APs = []\n",
    "    for image_id in image_ids:\n",
    "        # Load image\n",
    "        image, image_meta, gt_class_id, gt_bbox, gt_mask = modellib.load_image_gt(dataset, config, image_id, use_mini_mask=False)\n",
    "        # Run object detection\n",
    "        results = model.detect([image], verbose=0)\n",
    "        # Compute AP\n",
    "        r = results[0]\n",
    "        AP, precisions, recalls, overlaps = utils.compute_ap(gt_bbox, gt_class_id, gt_mask, r['rois'], r['class_ids'], r['scores'], r['masks'])\n",
    "        AP = 1 - AP\n",
    "        APs.append(AP)\n",
    "    return APs, precisions, recalls\n",
    "\n",
    "    dataset.load_nucleus(data_path, 'val')\n",
    "    dataset.prepare()\n",
    "    print(\"Images: {}\\nClasses: {}\".format(len(dataset.image_ids), dataset.class_names))\n",
    "    print(\"Loading weights \", weights_path)\n",
    "\n",
    "    image_ids = np.random.choice(dataset.image_ids, 25)\n",
    "    APs, precisions, recalls = compute_batch_ap(image_ids)\n",
    "    print(\"mAP @ IoU=50: \", APs)\n",
    "\n",
    "    AP = np.mean(APs)\n",
    "    visualize.plot_precision_recall(AP, precisions, recalls)\n",
    "    plt.show()"
   ]
  },
  {
   "cell_type": "code",
   "execution_count": null,
   "metadata": {},
   "outputs": [],
   "source": [
    "if __name__ == '__main__':\n",
    "    \n",
    "    "
   ]
  }
 ],
 "metadata": {
  "kernelspec": {
   "display_name": "Python 3",
   "language": "python",
   "name": "python3"
  },
  "language_info": {
   "codemirror_mode": {
    "name": "ipython",
    "version": 3
   },
   "file_extension": ".py",
   "mimetype": "text/x-python",
   "name": "python",
   "nbconvert_exporter": "python",
   "pygments_lexer": "ipython3",
   "version": "3.7.6"
  }
 },
 "nbformat": 4,
 "nbformat_minor": 4
}

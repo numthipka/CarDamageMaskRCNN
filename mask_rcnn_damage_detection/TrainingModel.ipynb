{
  "nbformat": 4,
  "nbformat_minor": 0,
  "metadata": {
    "kernelspec": {
      "display_name": "Python 3",
      "language": "python",
      "name": "python3"
    },
    "language_info": {
      "codemirror_mode": {
        "name": "ipython",
        "version": 3
      },
      "file_extension": ".py",
      "mimetype": "text/x-python",
      "name": "python",
      "nbconvert_exporter": "python",
      "pygments_lexer": "ipython3",
      "version": "3.7.6"
    },
    "colab": {
      "name": "TrainingModel.ipynb",
      "provenance": [],
      "toc_visible": true,
      "machine_shape": "hm",
      "include_colab_link": true
    },
    "accelerator": "GPU"
  },
  "cells": [
    {
      "cell_type": "markdown",
      "metadata": {
        "id": "view-in-github",
        "colab_type": "text"
      },
      "source": [
        "<a href=\"https://colab.research.google.com/github/numthipka/CarDamageMaskRCNN/blob/master/mask_rcnn_damage_detection/TrainingModel.ipynb\" target=\"_parent\"><img src=\"https://colab.research.google.com/assets/colab-badge.svg\" alt=\"Open In Colab\"/></a>"
      ]
    },
    {
      "cell_type": "markdown",
      "metadata": {
        "id": "eRESObug2gBg",
        "colab_type": "text"
      },
      "source": [
        "# 1 Import Dependencues "
      ]
    },
    {
      "cell_type": "code",
      "metadata": {
        "id": "zZRRwhH-5Svw",
        "colab_type": "code",
        "colab": {}
      },
      "source": [
        "from google.colab import drive\n",
        "drive.mount('/content/gdrive')"
      ],
      "execution_count": null,
      "outputs": []
    },
    {
      "cell_type": "code",
      "metadata": {
        "id": "KQlZuxE82in5",
        "colab_type": "code",
        "colab": {}
      },
      "source": [
        "!git clone https://github.com/numthipka/CarDamageMaskRCNN.git"
      ],
      "execution_count": null,
      "outputs": []
    },
    {
      "cell_type": "code",
      "metadata": {
        "id": "K2bOwbK6npmd",
        "colab_type": "code",
        "colab": {}
      },
      "source": [
        "!pip uninstall tensorflow"
      ],
      "execution_count": null,
      "outputs": []
    },
    {
      "cell_type": "code",
      "metadata": {
        "id": "fEn9SflB47Ry",
        "colab_type": "code",
        "colab": {}
      },
      "source": [
        "!pip install -r '/content/CarDamageMaskRCNN/mask_rcnn_damage_detection/requirements.txt'"
      ],
      "execution_count": null,
      "outputs": []
    },
    {
      "cell_type": "code",
      "metadata": {
        "id": "XaIu-w2f8XpM",
        "colab_type": "code",
        "colab": {}
      },
      "source": [
        "import os\n",
        "os.chdir('/content/CarDamageMaskRCNN/mask_rcnn_damage_detection')"
      ],
      "execution_count": null,
      "outputs": []
    },
    {
      "cell_type": "code",
      "metadata": {
        "id": "fGtt-o7u2gBh",
        "colab_type": "code",
        "colab": {}
      },
      "source": [
        "# import os\n",
        "import sys\n",
        "import json\n",
        "import datetime\n",
        "import numpy as np\n",
        "import skimage.draw\n",
        "#numthip add on 20200721 : in order to dont show the warning \n",
        "import warnings\n",
        "warnings.filterwarnings(\"ignore\")\n",
        "\n",
        "import cv2\n",
        "from mrcnn.visualize import display_instances\n",
        "import matplotlib.pyplot as plt\n",
        "\n",
        "# numthip add on 20200719 for img augmentation train\n",
        "import imgaug as ia\n",
        "from imgaug import augmenters as iaa\n",
        "\n",
        "# Root directory of the project\n",
        "# ROOT_DIR = os.path.abspath(\"../../\")\n",
        "# ROOT_DIR = os.path.abspath(\"../\")\n",
        "# 20200627\n",
        "ROOT_DIR = os.getcwd()"
      ],
      "execution_count": null,
      "outputs": []
    },
    {
      "cell_type": "markdown",
      "metadata": {
        "id": "Hhzhtc5Z2gBk",
        "colab_type": "text"
      },
      "source": [
        "# 2 Constant"
      ]
    },
    {
      "cell_type": "code",
      "metadata": {
        "id": "IiHZunST2gBl",
        "colab_type": "code",
        "colab": {}
      },
      "source": [
        "# Import Mask RCNN\n",
        "sys.path.append(ROOT_DIR)  # To find local version of the library\n",
        "from mrcnn.config import Config\n",
        "from mrcnn import model as modellib, utils\n",
        "\n",
        "# Cocmmand\n",
        "DEFAULT_COMMAND = \"train\"\n",
        "print(\"Command : \",DEFAULT_COMMAND)\n",
        "\n",
        "# Weight\n",
        "# 20200716 numthip k. comment ::>> DEFAULT_WEIGHT = \"last\"\n",
        "DEFAULT_WEIGHT = \"coco\"\n",
        "print(\"WEIGHT : \",DEFAULT_WEIGHT)\n",
        "\n",
        "# Path to trained weights file\n",
        "# COCO_WEIGHTS_PATH = os.path.join(ROOT_DIR, \"mask_rcnn_coco.h5\")\n",
        "COCO_WEIGHTS_PATH = '/content/gdrive/My Drive/mask_rcnn/mask_rcnn_coco.h5'\n",
        "print(\"Coco Weights Path : \",COCO_WEIGHTS_PATH)\n",
        "\n",
        "# Directory to save logs and model checkpoints, if not provided\n",
        "# through the command line argument --logs\n",
        "DEFAULT_LOGS_DIR = os.path.join(ROOT_DIR, \"logs\")\n",
        "print(\"Log path : \", DEFAULT_LOGS_DIR)\n",
        "\n",
        "# Directory of data\n",
        "# DEFAULT_DATASET = os.path.join(os.getcwd(), \"customImages\")\n",
        "DEFAULT_DATASET = '/content/gdrive/My Drive/mask_rcnn/customImages'\n",
        "print(\"Dataset path : \", DEFAULT_DATASET)\n",
        "\n",
        "# Path to trained weights file\n",
        "# LAST_WEIGHTS_PATH = os.path.join(ROOT_DIR, \"mask_rcnn_coco.h5\")\n",
        "LAST_WEIGHTS_PATH = '/content/gdrive/My Drive/mask_rcnn/mask_rcnn_coco.h5'\n",
        "# os.path.join(os.path.abspath(\"../logs/damage20200628T1311\"), \"mask_rcnn_damage_0010.h5\")\n",
        "#print(\"Last Weights Path : \",LAST_WEIGHTS_PATH)\n",
        " \n",
        "    \n",
        "# Numthip Add constnt epoch \n",
        "# number of epoch for training \n",
        "EPOCHS_CONST = 40\n"
      ],
      "execution_count": null,
      "outputs": []
    },
    {
      "cell_type": "markdown",
      "metadata": {
        "id": "JGoiH84X2gBn",
        "colab_type": "text"
      },
      "source": [
        "# 3 Configurations"
      ]
    },
    {
      "cell_type": "code",
      "metadata": {
        "id": "0zgTvRek2gBo",
        "colab_type": "code",
        "colab": {}
      },
      "source": [
        "class CustomConfig(Config):\n",
        "    \"\"\"Configuration for training on the toy  dataset.\n",
        "    Derives from the base Config class and overrides some values.\n",
        "    \"\"\"\n",
        "    # Give the configuration a recognizable name\n",
        "    NAME = \"damage\"\n",
        "\n",
        "    # We use a GPU with 12GB memory, which can fit two images.\n",
        "    # Adjust down if you use a smaller GPU.\n",
        "#     IMAGES_PER_GPU = 2 Numthip\n",
        "    IMAGES_PER_GPU = 1\n",
        "\n",
        "    # Number of classes (including background)\n",
        "    NUM_CLASSES = 1 + 1  # Background + toy\n",
        "\n",
        "    # Number of training steps per epoch \n",
        "    # 20200716 : numthip changes from 100  to 200 \n",
        "    STEPS_PER_EPOCH = 600\n",
        "\n",
        "    # Skip detections with < 90% confidence\n",
        "    DETECTION_MIN_CONFIDENCE = 0.9"
      ],
      "execution_count": null,
      "outputs": []
    },
    {
      "cell_type": "markdown",
      "metadata": {
        "id": "41CbEp6w2gBq",
        "colab_type": "text"
      },
      "source": [
        "# 4 Dataset"
      ]
    },
    {
      "cell_type": "code",
      "metadata": {
        "id": "1MgDQDpB2gBq",
        "colab_type": "code",
        "colab": {}
      },
      "source": [
        "class CustomDataset(utils.Dataset):\n",
        "\n",
        "    def load_custom(self, dataset_dir, subset):\n",
        "        \"\"\"Load a subset of the Balloon dataset.\n",
        "        dataset_dir: Root directory of the dataset.\n",
        "        subset: Subset to load: train or val\n",
        "        \"\"\"\n",
        "        # Add classes. We have only one class to add.\n",
        "        self.add_class(\"damage\", 1, \"damage\")\n",
        "\n",
        "        # Train or validation dataset?\n",
        "        assert subset in [\"train\", \"val\"]\n",
        "        # dataset_dir = os.path.join(dataset_dir, subset)\n",
        "        dataset_dir = os.path.join(dataset_dir, subset)\n",
        "\n",
        "        # Load annotations\n",
        "        # VGG Image Annotator saves each image in the form:\n",
        "        # { 'filename': '28503151_5b5b7ec140_b.jpg',\n",
        "        #   'regions': {\n",
        "        #       '0': {\n",
        "        #           'region_attributes': {},\n",
        "        #           'shape_attributes': {\n",
        "        #               'all_points_x': [...],\n",
        "        #               'all_points_y': [...],\n",
        "        #               'name': 'polygon'}},\n",
        "        #       ... more regions ...\n",
        "        #   },\n",
        "        #   'size': 100202\n",
        "        # }\n",
        "        # We mostly care about the x and y coordinates of each region\n",
        "        annotations1 = json.load(open(os.path.join(dataset_dir, \"via_region_data.json\")))\n",
        "        # print(annotations1)\n",
        "        annotations = list(annotations1.values())  # don't need the dict keys\n",
        "\n",
        "        # The VIA tool saves images in the JSON even if they don't have any\n",
        "        # annotations. Skip unannotated images.\n",
        "        annotations = [a for a in annotations if a['regions']]\n",
        "\n",
        "        # Add images\n",
        "        for a in annotations:\n",
        "            # print(a)\n",
        "            # Get the x, y coordinaets of points of the polygons that make up\n",
        "            # the outline of each object instance. There are stores in the\n",
        "            # shape_attributes (see json format above)\n",
        "            polygons = [r['shape_attributes'] for r in a['regions'].values()]\n",
        "\n",
        "            # load_mask() needs the image size to convert polygons to masks.\n",
        "            # Unfortunately, VIA doesn't include it in JSON, so we must read\n",
        "            # the image. This is only managable since the dataset is tiny.\n",
        "            image_path = os.path.join(dataset_dir, a['filename'])\n",
        "            image = skimage.io.imread(image_path)\n",
        "            height, width = image.shape[:2]\n",
        "\n",
        "            self.add_image(\n",
        "                \"damage\",  ## for a single class just add the name here\n",
        "                image_id=a['filename'],  # use file name as a unique image id\n",
        "                path=image_path,\n",
        "                width=width, height=height,\n",
        "                polygons=polygons)\n",
        "\n",
        "    def load_mask(self, image_id):\n",
        "        \"\"\"Generate instance masks for an image.\n",
        "       Returns:\n",
        "        masks: A bool array of shape [height, width, instance count] with\n",
        "            one mask per instance.\n",
        "        class_ids: a 1D array of class IDs of the instance masks.\n",
        "        \"\"\"\n",
        "        # If not a balloon dataset image, delegate to parent class.\n",
        "        image_info = self.image_info[image_id]\n",
        "        if image_info[\"source\"] != \"damage\":\n",
        "            return super(self.__class__, self).load_mask(image_id)\n",
        "\n",
        "        # Convert polygons to a bitmap mask of shape\n",
        "        # [height, width, instance_count]\n",
        "        info = self.image_info[image_id]\n",
        "        mask = np.zeros([info[\"height\"], info[\"width\"], len(info[\"polygons\"])],\n",
        "                        dtype=np.uint8)\n",
        "        for i, p in enumerate(info[\"polygons\"]):\n",
        "            # Get indexes of pixels inside the polygon and set them to 1\n",
        "            rr, cc = skimage.draw.polygon(p['all_points_y'], p['all_points_x'])\n",
        "            mask[rr, cc, i] = 1\n",
        "\n",
        "        # Return mask, and array of class IDs of each instance. Since we have\n",
        "        # one class ID only, we return an array of 1s\n",
        "        return mask.astype(np.bool), np.ones([mask.shape[-1]], dtype=np.int32)\n",
        "\n",
        "    def image_reference(self, image_id):\n",
        "        \"\"\"Return the path of the image.\"\"\"\n",
        "        info = self.image_info[image_id]\n",
        "        if info[\"source\"] == \"damage\":\n",
        "            return info[\"path\"]\n",
        "        else:\n",
        "            super(self.__class__, self).image_reference(image_id)"
      ],
      "execution_count": null,
      "outputs": []
    },
    {
      "cell_type": "markdown",
      "metadata": {
        "id": "f2vKBCs42gBs",
        "colab_type": "text"
      },
      "source": [
        "# 5 Image augmentation \n",
        "only horizontol flip here"
      ]
    },
    {
      "cell_type": "code",
      "metadata": {
        "id": "CK7HRdjO2gBt",
        "colab_type": "code",
        "colab": {}
      },
      "source": [
        "#2020719 - Numthip added  augmentationof the images set to be horizontal flip \n",
        "#augmentation = iaa.Sequential([\n",
        "#    iaa.Fliplr(0.5) # only horizontal flip here\n",
        "#])\n",
        "augmentation = iaa.Sequential([\n",
        "    iaa.OneOf([ ## rotate\n",
        "        iaa.Affine(rotate=0),\n",
        "        iaa.Affine(rotate=90),\n",
        "    ]),\n",
        "    iaa.Fliplr(0.5),\n",
        "    iaa.Flipud(0.5),\n",
        "    iaa.OneOf([ ## brightness or contrast\n",
        "        iaa.Multiply((0.9, 1.1)),\n",
        "        iaa.ContrastNormalization((0.9, 1.1)),\n",
        "    ]),\n",
        "    iaa.OneOf([ ## blur or sharpen\n",
        "        iaa.GaussianBlur(sigma=(0.0, 0.1)),\n",
        "        iaa.Sharpen(alpha=(0.0, 0.1)),\n",
        "    ]),\n",
        "])\n"
      ],
      "execution_count": null,
      "outputs": []
    },
    {
      "cell_type": "code",
      "metadata": {
        "id": "E9hD7NiU2gBv",
        "colab_type": "code",
        "colab": {}
      },
      "source": [
        "def train(model):\n",
        "    \"\"\"Train the model.\"\"\"\n",
        "    # Training dataset.\n",
        "    dataset_train = CustomDataset()\n",
        "    dataset_train.load_custom(DEFAULT_DATASET, \"train\")\n",
        "    dataset_train.prepare()\n",
        "\n",
        "    # Validation dataset\n",
        "    dataset_val = CustomDataset()\n",
        "    dataset_val.load_custom(DEFAULT_DATASET, \"val\")\n",
        "    dataset_val.prepare()\n",
        "\n",
        "    # *** This training schedule is an example. Update to your needs ***\n",
        "    # Since we're using a very small dataset, and starting from\n",
        "    # COCO trained weights, we don't need to train too long. Also,\n",
        "    # no need to train all layers, just the heads should do it.\n",
        "      # 20200716 : numthip changes from 100  to 200 \n",
        "        #model.train(dataset_train, dataset_val,\n",
        "        #       learning_rate=config.LEARNING_RATE,\n",
        "        #      epochs=10,\n",
        "        #     layers='heads')\n",
        "        #,#augmentation=augmentation)\n",
        "        \n",
        "    ##Numthip Add : 20200726 \n",
        "    ##add call back for mAP Cal as Link: \"https://github.com/matterport/Mask_RCNN/issues/1839\" \n",
        "    ##custom_callbacks\n",
        "    \n",
        "    # model_inference = modellib.MaskRCNN(mode=\"inference\", config=config, model_dir=DEFAULT_LOGS_DIR)\n",
        "    \n",
        "    # mean_average_precision_callback = modellib.MeanAveragePrecisionCallback(model\n",
        "    #                                                                         , model_inference\n",
        "    #                                                                         , dataset_val\n",
        "    #                                                                         , calculate_map_at_every_X_epoch=5\n",
        "    #                                                                         , verbose=1)\n",
        "        \n",
        "    model.train(dataset_train, dataset_val,\n",
        "             learning_rate=config.LEARNING_RATE,\n",
        "             epochs=EPOCHS_CONST,\n",
        "             layers='all',\n",
        "             augmentation=augmentation)\n",
        "             #,\n",
        "             #custom_callbacks=[mean_average_precision_callback])\n",
        "  "
      ],
      "execution_count": null,
      "outputs": []
    },
    {
      "cell_type": "code",
      "metadata": {
        "id": "KeWRQASn2gBx",
        "colab_type": "code",
        "colab": {}
      },
      "source": [
        "def color_splash(image, mask):\n",
        "    \"\"\"Apply color splash effect.\n",
        "    image: RGB image [height, width, 3]\n",
        "    mask: instance segmentation mask [height, width, instance count]\n",
        "\n",
        "    Returns result image.\n",
        "    \"\"\"\n",
        "    # Make a grayscale copy of the image. The grayscale copy still\n",
        "    # has 3 RGB channels, though.\n",
        "    gray = skimage.color.gray2rgb(skimage.color.rgb2gray(image)) * 255\n",
        "    # We're treating all instances as one, so collapse the mask into one layer\n",
        "    mask = (np.sum(mask, -1, keepdims=True) >= 1)\n",
        "    # Copy color pixels from the original color image where mask is set\n",
        "    if mask.shape[0] > 0:\n",
        "        splash = np.where(mask, image, gray).astype(np.uint8)\n",
        "    else:\n",
        "        splash = gray\n",
        "    return splash"
      ],
      "execution_count": null,
      "outputs": []
    },
    {
      "cell_type": "markdown",
      "metadata": {
        "id": "naszDez12gBz",
        "colab_type": "text"
      },
      "source": [
        "# 6 Training"
      ]
    },
    {
      "cell_type": "code",
      "metadata": {
        "id": "yUtDl7V12gB0",
        "colab_type": "code",
        "colab": {}
      },
      "source": [
        "if __name__ == '__main__':\n",
        "\n",
        "    # Configurations\n",
        "    if DEFAULT_COMMAND == \"train\":\n",
        "        config = CustomConfig()\n",
        "    else:\n",
        "        class InferenceConfig(CustomConfig):\n",
        "            # Set batch size to 1 since we'll be running inference on\n",
        "            # one image at a time. Batch size = GPU_COUNT * IMAGES_PER_GPU\n",
        "            GPU_COUNT = 1\n",
        "            IMAGES_PER_GPU = 1\n",
        "        config = InferenceConfig()\n",
        "    config.display()\n",
        "\n",
        "    # Create model\n",
        "    if DEFAULT_COMMAND == \"train\":\n",
        "        model = modellib.MaskRCNN(mode=\"training\", config=config,\n",
        "                                  model_dir=DEFAULT_LOGS_DIR)\n",
        "    else:\n",
        "        model = modellib.MaskRCNN(mode=\"inference\", config=config,\n",
        "                                  model_dir=DEFAULT_LOGS_DIR)\n",
        "\n",
        "    # Select weights file to load\n",
        "    if DEFAULT_WEIGHT.lower() == \"coco\":\n",
        "        weights_path = COCO_WEIGHTS_PATH\n",
        "        # Download weights file\n",
        "        if not os.path.exists(weights_path):\n",
        "            utils.download_trained_weights(weights_path)\n",
        "    elif DEFAULT_WEIGHT.lower() == \"last\":\n",
        "        # Find last trained weights\n",
        "        weights_path = LAST_WEIGHTS_PATH\n",
        "    elif DEFAULT_WEIGHT.lower() == \"imagenet\":\n",
        "        # Start from ImageNet trained weights\n",
        "        weights_path = model.get_imagenet_weights()\n",
        "    else:\n",
        "        weights_path = DEFAULT_WEIGHT\n",
        "\n",
        "    # Load weights\n",
        "    print(\"Loading weights \", weights_path)\n",
        "    if DEFAULT_WEIGHT.lower() == \"coco\":\n",
        "        # Exclude the last layers because they require a matching\n",
        "        # number of classes\n",
        "        model.load_weights(weights_path, by_name=True, exclude=[\n",
        "            \"mrcnn_class_logits\", \"mrcnn_bbox_fc\",\n",
        "            \"mrcnn_bbox\", \"mrcnn_mask\"])\n",
        "    else:\n",
        "        model.load_weights(weights_path, by_name=True)\n",
        "\n",
        "    # Train\n",
        "    train(model)\n",
        "    \n",
        "    history = model.keras_model.history.history"
      ],
      "execution_count": null,
      "outputs": []
    },
    {
      "cell_type": "markdown",
      "metadata": {
        "id": "0Zhia68w2gB2",
        "colab_type": "text"
      },
      "source": [
        "# 7 Evaluate Model Loss and Val Loss"
      ]
    },
    {
      "cell_type": "code",
      "metadata": {
        "id": "Pj5WFUfO2gB2",
        "colab_type": "code",
        "colab": {}
      },
      "source": [
        "# numthip add chart train loss and valid loss \n",
        "\n",
        "epochs = range(EPOCHS_CONST)\n",
        "\n",
        "plt.figure(figsize=(18, 6))\n",
        "\n",
        "plt.subplot(131)\n",
        "plt.title('loss')\n",
        "plt.plot(epochs, history['loss'], label=\"train loss\")\n",
        "plt.plot(epochs, history['val_loss'], label=\"valid loss\")\n",
        "plt.legend()\n",
        "plt.subplot(132)\n",
        "plt.title('mrcnn_class_loss')\n",
        "plt.plot(epochs, history['mrcnn_class_loss'], label=\"train class loss\")\n",
        "plt.plot(epochs, history['val_mrcnn_class_loss'], label=\"valid class loss\")\n",
        "plt.legend()\n",
        "plt.subplot(133)\n",
        "plt.title('mrcnn_mask_loss')\n",
        "plt.plot(epochs, history['mrcnn_mask_loss'], label=\"train mask loss\")\n",
        "plt.plot(epochs, history['val_mrcnn_mask_loss'], label=\"valid mask loss\")\n",
        "plt.legend()\n",
        "\n",
        "plt.show()\n",
        "\n",
        "best_epoch = np.argmin(history[\"val_loss\"]) + 1\n",
        "print(\"Best epoch: \", best_epoch)\n",
        "print(\"Valid loss: \", history[\"val_loss\"][best_epoch-1])\n",
        "\n",
        "best_epoch2 = np.argmin(history[\"val_loss\"])\n",
        "print(\"Best Epoch:\", best_epoch2 + 1, history[\"val_loss\"][best_epoch2])\n"
      ],
      "execution_count": null,
      "outputs": []
    },
    {
      "cell_type": "code",
      "metadata": {
        "id": "n02gZlLm2gB4",
        "colab_type": "code",
        "colab": {}
      },
      "source": [
        "# numthip add to print  train loss and valid loss \n",
        "#epochs = range(1,len(next(iter(history.values())))+1)\n",
        "#pd.DataFrame(history, index=epochs)"
      ],
      "execution_count": null,
      "outputs": []
    },
    {
      "cell_type": "code",
      "metadata": {
        "id": "bjW-2vkM2gB6",
        "colab_type": "code",
        "colab": {}
      },
      "source": [
        ""
      ],
      "execution_count": null,
      "outputs": []
    }
  ]
}
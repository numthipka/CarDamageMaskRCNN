{
  "nbformat": 4,
  "nbformat_minor": 0,
  "metadata": {
    "kernelspec": {
      "display_name": "Python 3",
      "language": "python",
      "name": "python3"
    },
    "language_info": {
      "codemirror_mode": {
        "name": "ipython",
        "version": 3
      },
      "file_extension": ".py",
      "mimetype": "text/x-python",
      "name": "python",
      "nbconvert_exporter": "python",
      "pygments_lexer": "ipython3",
      "version": "3.7.6"
    },
    "colab": {
      "name": "TrainingModel.ipynb",
      "provenance": [],
      "toc_visible": true,
      "machine_shape": "hm",
      "include_colab_link": true
    },
    "accelerator": "GPU"
  },
  "cells": [
    {
      "cell_type": "markdown",
      "metadata": {
        "id": "view-in-github",
        "colab_type": "text"
      },
      "source": [
        "<a href=\"https://colab.research.google.com/github/numthipka/CarDamageMaskRCNN/blob/master/mask_rcnn_damage_detection/TrainingModel_NoRsl.ipynb\" target=\"_parent\"><img src=\"https://colab.research.google.com/assets/colab-badge.svg\" alt=\"Open In Colab\"/></a>"
      ]
    },
    {
      "cell_type": "markdown",
      "metadata": {
        "id": "JIUNKFFhcCOz",
        "colab_type": "text"
      },
      "source": [
        "# Model Trainning"
      ]
    },
    {
      "cell_type": "markdown",
      "metadata": {
        "id": "1n8wwZw5kq2E",
        "colab_type": "text"
      },
      "source": [
        "## Prepare"
      ]
    },
    {
      "cell_type": "code",
      "metadata": {
        "id": "zZRRwhH-5Svw",
        "colab_type": "code",
        "colab": {
          "base_uri": "https://localhost:8080/",
          "height": 120
        },
        "outputId": "6162d219-40ed-4d22-ede1-23102df209b0"
      },
      "source": [
        "from google.colab import drive\n",
        "drive.mount('/content/gdrive')"
      ],
      "execution_count": 1,
      "outputs": [
        {
          "output_type": "stream",
          "text": [
            "Go to this URL in a browser: https://accounts.google.com/o/oauth2/auth?client_id=947318989803-6bn6qk8qdgf4n4g3pfee6491hc0brc4i.apps.googleusercontent.com&redirect_uri=urn%3aietf%3awg%3aoauth%3a2.0%3aoob&response_type=code&scope=email%20https%3a%2f%2fwww.googleapis.com%2fauth%2fdocs.test%20https%3a%2f%2fwww.googleapis.com%2fauth%2fdrive%20https%3a%2f%2fwww.googleapis.com%2fauth%2fdrive.photos.readonly%20https%3a%2f%2fwww.googleapis.com%2fauth%2fpeopleapi.readonly\n",
            "\n",
            "Enter your authorization code:\n",
            "··········\n",
            "Mounted at /content/gdrive\n"
          ],
          "name": "stdout"
        }
      ]
    },
    {
      "cell_type": "code",
      "metadata": {
        "id": "KQlZuxE82in5",
        "colab_type": "code",
        "colab": {
          "base_uri": "https://localhost:8080/",
          "height": 150
        },
        "outputId": "17c60f90-8289-4c4c-bcdd-755b64480280"
      },
      "source": [
        "!git clone https://github.com/numthipka/CarDamageMaskRCNN.git"
      ],
      "execution_count": 2,
      "outputs": [
        {
          "output_type": "stream",
          "text": [
            "Cloning into 'CarDamageMaskRCNN'...\n",
            "remote: Enumerating objects: 56, done.\u001b[K\n",
            "remote: Counting objects:   1% (1/56)\u001b[K\rremote: Counting objects:   3% (2/56)\u001b[K\rremote: Counting objects:   5% (3/56)\u001b[K\rremote: Counting objects:   7% (4/56)\u001b[K\rremote: Counting objects:   8% (5/56)\u001b[K\rremote: Counting objects:  10% (6/56)\u001b[K\rremote: Counting objects:  12% (7/56)\u001b[K\rremote: Counting objects:  14% (8/56)\u001b[K\rremote: Counting objects:  16% (9/56)\u001b[K\rremote: Counting objects:  17% (10/56)\u001b[K\rremote: Counting objects:  19% (11/56)\u001b[K\rremote: Counting objects:  21% (12/56)\u001b[K\rremote: Counting objects:  23% (13/56)\u001b[K\rremote: Counting objects:  25% (14/56)\u001b[K\rremote: Counting objects:  26% (15/56)\u001b[K\rremote: Counting objects:  28% (16/56)\u001b[K\rremote: Counting objects:  30% (17/56)\u001b[K\rremote: Counting objects:  32% (18/56)\u001b[K\rremote: Counting objects:  33% (19/56)\u001b[K\rremote: Counting objects:  35% (20/56)\u001b[K\rremote: Counting objects:  37% (21/56)\u001b[K\rremote: Counting objects:  39% (22/56)\u001b[K\rremote: Counting objects:  41% (23/56)\u001b[K\rremote: Counting objects:  42% (24/56)\u001b[K\rremote: Counting objects:  44% (25/56)\u001b[K\rremote: Counting objects:  46% (26/56)\u001b[K\rremote: Counting objects:  48% (27/56)\u001b[K\rremote: Counting objects:  50% (28/56)\u001b[K\rremote: Counting objects:  51% (29/56)\u001b[K\rremote: Counting objects:  53% (30/56)\u001b[K\rremote: Counting objects:  55% (31/56)\u001b[K\rremote: Counting objects:  57% (32/56)\u001b[K\rremote: Counting objects:  58% (33/56)\u001b[K\rremote: Counting objects:  60% (34/56)\u001b[K\rremote: Counting objects:  62% (35/56)\u001b[K\rremote: Counting objects:  64% (36/56)\u001b[K\rremote: Counting objects:  66% (37/56)\u001b[K\rremote: Counting objects:  67% (38/56)\u001b[K\rremote: Counting objects:  69% (39/56)\u001b[K\rremote: Counting objects:  71% (40/56)\u001b[K\rremote: Counting objects:  73% (41/56)\u001b[K\rremote: Counting objects:  75% (42/56)\u001b[K\rremote: Counting objects:  76% (43/56)\u001b[K\rremote: Counting objects:  78% (44/56)\u001b[K\rremote: Counting objects:  80% (45/56)\u001b[K\rremote: Counting objects:  82% (46/56)\u001b[K\rremote: Counting objects:  83% (47/56)\u001b[K\rremote: Counting objects:  85% (48/56)\u001b[K\rremote: Counting objects:  87% (49/56)\u001b[K\rremote: Counting objects:  89% (50/56)\u001b[K\rremote: Counting objects:  91% (51/56)\u001b[K\rremote: Counting objects:  92% (52/56)\u001b[K\rremote: Counting objects:  94% (53/56)\u001b[K\rremote: Counting objects:  96% (54/56)\u001b[K\rremote: Counting objects:  98% (55/56)\u001b[K\rremote: Counting objects: 100% (56/56)\u001b[K\rremote: Counting objects: 100% (56/56), done.\u001b[K\n",
            "remote: Compressing objects: 100% (47/47), done.\u001b[K\n",
            "remote: Total 714 (delta 31), reused 19 (delta 9), pack-reused 658\u001b[K\n",
            "Receiving objects: 100% (714/714), 220.70 MiB | 14.22 MiB/s, done.\n",
            "Resolving deltas: 100% (76/76), done.\n",
            "Checking out files: 100% (430/430), done.\n"
          ],
          "name": "stdout"
        }
      ]
    },
    {
      "cell_type": "code",
      "metadata": {
        "id": "K2bOwbK6npmd",
        "colab_type": "code",
        "colab": {
          "base_uri": "https://localhost:8080/",
          "height": 233
        },
        "outputId": "c7ff8459-7b42-4791-8aa7-6efcfffce0e6"
      },
      "source": [
        "!pip uninstall tensorflow"
      ],
      "execution_count": 3,
      "outputs": [
        {
          "output_type": "stream",
          "text": [
            "Uninstalling tensorflow-2.2.0:\n",
            "  Would remove:\n",
            "    /usr/local/bin/estimator_ckpt_converter\n",
            "    /usr/local/bin/saved_model_cli\n",
            "    /usr/local/bin/tensorboard\n",
            "    /usr/local/bin/tf_upgrade_v2\n",
            "    /usr/local/bin/tflite_convert\n",
            "    /usr/local/bin/toco\n",
            "    /usr/local/bin/toco_from_protos\n",
            "    /usr/local/lib/python3.6/dist-packages/tensorflow-2.2.0.dist-info/*\n",
            "    /usr/local/lib/python3.6/dist-packages/tensorflow/*\n",
            "Proceed (y/n)? y\n",
            "  Successfully uninstalled tensorflow-2.2.0\n"
          ],
          "name": "stdout"
        }
      ]
    },
    {
      "cell_type": "code",
      "metadata": {
        "id": "fEn9SflB47Ry",
        "colab_type": "code",
        "colab": {
          "base_uri": "https://localhost:8080/",
          "height": 1000
        },
        "outputId": "a9ddf5fa-7d23-415a-d9eb-d37fcf495274"
      },
      "source": [
        "!pip install -r '/content/CarDamageMaskRCNN/mask_rcnn_damage_detection/requirements.txt'"
      ],
      "execution_count": 4,
      "outputs": [
        {
          "output_type": "stream",
          "text": [
            "Requirement already satisfied: numpy in /usr/local/lib/python3.6/dist-packages (from -r /content/CarDamageMaskRCNN/mask_rcnn_damage_detection/requirements.txt (line 1)) (1.18.5)\n",
            "Requirement already satisfied: scipy in /usr/local/lib/python3.6/dist-packages (from -r /content/CarDamageMaskRCNN/mask_rcnn_damage_detection/requirements.txt (line 2)) (1.4.1)\n",
            "Requirement already satisfied: Pillow in /usr/local/lib/python3.6/dist-packages (from -r /content/CarDamageMaskRCNN/mask_rcnn_damage_detection/requirements.txt (line 3)) (7.0.0)\n",
            "Requirement already satisfied: cython in /usr/local/lib/python3.6/dist-packages (from -r /content/CarDamageMaskRCNN/mask_rcnn_damage_detection/requirements.txt (line 4)) (0.29.21)\n",
            "Requirement already satisfied: matplotlib in /usr/local/lib/python3.6/dist-packages (from -r /content/CarDamageMaskRCNN/mask_rcnn_damage_detection/requirements.txt (line 5)) (3.2.2)\n",
            "Requirement already satisfied: scikit-image in /usr/local/lib/python3.6/dist-packages (from -r /content/CarDamageMaskRCNN/mask_rcnn_damage_detection/requirements.txt (line 6)) (0.16.2)\n",
            "Collecting tensorflow-gpu==1.14.0\n",
            "\u001b[?25l  Downloading https://files.pythonhosted.org/packages/76/04/43153bfdfcf6c9a4c38ecdb971ca9a75b9a791bb69a764d652c359aca504/tensorflow_gpu-1.14.0-cp36-cp36m-manylinux1_x86_64.whl (377.0MB)\n",
            "\u001b[K     |████████████████████████████████| 377.0MB 40kB/s \n",
            "\u001b[?25hCollecting keras==2.1.5\n",
            "\u001b[?25l  Downloading https://files.pythonhosted.org/packages/ba/65/e4aff762b8696ec0626a6654b1e73b396fcc8b7cc6b98d78a1bc53b85b48/Keras-2.1.5-py2.py3-none-any.whl (334kB)\n",
            "\u001b[K     |████████████████████████████████| 337kB 63.9MB/s \n",
            "\u001b[?25hRequirement already satisfied: opencv-python in /usr/local/lib/python3.6/dist-packages (from -r /content/CarDamageMaskRCNN/mask_rcnn_damage_detection/requirements.txt (line 10)) (4.1.2.30)\n",
            "Requirement already satisfied: h5py in /usr/local/lib/python3.6/dist-packages (from -r /content/CarDamageMaskRCNN/mask_rcnn_damage_detection/requirements.txt (line 11)) (2.10.0)\n",
            "Requirement already satisfied: imgaug in /usr/local/lib/python3.6/dist-packages (from -r /content/CarDamageMaskRCNN/mask_rcnn_damage_detection/requirements.txt (line 12)) (0.2.9)\n",
            "Requirement already satisfied: IPython[all] in /usr/local/lib/python3.6/dist-packages (from -r /content/CarDamageMaskRCNN/mask_rcnn_damage_detection/requirements.txt (line 13)) (5.5.0)\n",
            "Requirement already satisfied: kiwisolver>=1.0.1 in /usr/local/lib/python3.6/dist-packages (from matplotlib->-r /content/CarDamageMaskRCNN/mask_rcnn_damage_detection/requirements.txt (line 5)) (1.2.0)\n",
            "Requirement already satisfied: python-dateutil>=2.1 in /usr/local/lib/python3.6/dist-packages (from matplotlib->-r /content/CarDamageMaskRCNN/mask_rcnn_damage_detection/requirements.txt (line 5)) (2.8.1)\n",
            "Requirement already satisfied: cycler>=0.10 in /usr/local/lib/python3.6/dist-packages (from matplotlib->-r /content/CarDamageMaskRCNN/mask_rcnn_damage_detection/requirements.txt (line 5)) (0.10.0)\n",
            "Requirement already satisfied: pyparsing!=2.0.4,!=2.1.2,!=2.1.6,>=2.0.1 in /usr/local/lib/python3.6/dist-packages (from matplotlib->-r /content/CarDamageMaskRCNN/mask_rcnn_damage_detection/requirements.txt (line 5)) (2.4.7)\n",
            "Requirement already satisfied: networkx>=2.0 in /usr/local/lib/python3.6/dist-packages (from scikit-image->-r /content/CarDamageMaskRCNN/mask_rcnn_damage_detection/requirements.txt (line 6)) (2.4)\n",
            "Requirement already satisfied: imageio>=2.3.0 in /usr/local/lib/python3.6/dist-packages (from scikit-image->-r /content/CarDamageMaskRCNN/mask_rcnn_damage_detection/requirements.txt (line 6)) (2.4.1)\n",
            "Requirement already satisfied: PyWavelets>=0.4.0 in /usr/local/lib/python3.6/dist-packages (from scikit-image->-r /content/CarDamageMaskRCNN/mask_rcnn_damage_detection/requirements.txt (line 6)) (1.1.1)\n",
            "Requirement already satisfied: six>=1.10.0 in /usr/local/lib/python3.6/dist-packages (from tensorflow-gpu==1.14.0->-r /content/CarDamageMaskRCNN/mask_rcnn_damage_detection/requirements.txt (line 8)) (1.15.0)\n",
            "Requirement already satisfied: grpcio>=1.8.6 in /usr/local/lib/python3.6/dist-packages (from tensorflow-gpu==1.14.0->-r /content/CarDamageMaskRCNN/mask_rcnn_damage_detection/requirements.txt (line 8)) (1.30.0)\n",
            "Collecting tensorboard<1.15.0,>=1.14.0\n",
            "\u001b[?25l  Downloading https://files.pythonhosted.org/packages/91/2d/2ed263449a078cd9c8a9ba50ebd50123adf1f8cfbea1492f9084169b89d9/tensorboard-1.14.0-py3-none-any.whl (3.1MB)\n",
            "\u001b[K     |████████████████████████████████| 3.2MB 59.1MB/s \n",
            "\u001b[?25hRequirement already satisfied: astor>=0.6.0 in /usr/local/lib/python3.6/dist-packages (from tensorflow-gpu==1.14.0->-r /content/CarDamageMaskRCNN/mask_rcnn_damage_detection/requirements.txt (line 8)) (0.8.1)\n",
            "Requirement already satisfied: google-pasta>=0.1.6 in /usr/local/lib/python3.6/dist-packages (from tensorflow-gpu==1.14.0->-r /content/CarDamageMaskRCNN/mask_rcnn_damage_detection/requirements.txt (line 8)) (0.2.0)\n",
            "Requirement already satisfied: protobuf>=3.6.1 in /usr/local/lib/python3.6/dist-packages (from tensorflow-gpu==1.14.0->-r /content/CarDamageMaskRCNN/mask_rcnn_damage_detection/requirements.txt (line 8)) (3.12.2)\n",
            "Requirement already satisfied: termcolor>=1.1.0 in /usr/local/lib/python3.6/dist-packages (from tensorflow-gpu==1.14.0->-r /content/CarDamageMaskRCNN/mask_rcnn_damage_detection/requirements.txt (line 8)) (1.1.0)\n",
            "Requirement already satisfied: keras-applications>=1.0.6 in /usr/local/lib/python3.6/dist-packages (from tensorflow-gpu==1.14.0->-r /content/CarDamageMaskRCNN/mask_rcnn_damage_detection/requirements.txt (line 8)) (1.0.8)\n",
            "Requirement already satisfied: wheel>=0.26 in /usr/local/lib/python3.6/dist-packages (from tensorflow-gpu==1.14.0->-r /content/CarDamageMaskRCNN/mask_rcnn_damage_detection/requirements.txt (line 8)) (0.34.2)\n",
            "Requirement already satisfied: gast>=0.2.0 in /usr/local/lib/python3.6/dist-packages (from tensorflow-gpu==1.14.0->-r /content/CarDamageMaskRCNN/mask_rcnn_damage_detection/requirements.txt (line 8)) (0.3.3)\n",
            "Requirement already satisfied: keras-preprocessing>=1.0.5 in /usr/local/lib/python3.6/dist-packages (from tensorflow-gpu==1.14.0->-r /content/CarDamageMaskRCNN/mask_rcnn_damage_detection/requirements.txt (line 8)) (1.1.2)\n",
            "Requirement already satisfied: absl-py>=0.7.0 in /usr/local/lib/python3.6/dist-packages (from tensorflow-gpu==1.14.0->-r /content/CarDamageMaskRCNN/mask_rcnn_damage_detection/requirements.txt (line 8)) (0.9.0)\n",
            "Requirement already satisfied: wrapt>=1.11.1 in /usr/local/lib/python3.6/dist-packages (from tensorflow-gpu==1.14.0->-r /content/CarDamageMaskRCNN/mask_rcnn_damage_detection/requirements.txt (line 8)) (1.12.1)\n",
            "Collecting tensorflow-estimator<1.15.0rc0,>=1.14.0rc0\n",
            "\u001b[?25l  Downloading https://files.pythonhosted.org/packages/3c/d5/21860a5b11caf0678fbc8319341b0ae21a07156911132e0e71bffed0510d/tensorflow_estimator-1.14.0-py2.py3-none-any.whl (488kB)\n",
            "\u001b[K     |████████████████████████████████| 491kB 58.9MB/s \n",
            "\u001b[?25hRequirement already satisfied: pyyaml in /usr/local/lib/python3.6/dist-packages (from keras==2.1.5->-r /content/CarDamageMaskRCNN/mask_rcnn_damage_detection/requirements.txt (line 9)) (3.13)\n",
            "Requirement already satisfied: Shapely in /usr/local/lib/python3.6/dist-packages (from imgaug->-r /content/CarDamageMaskRCNN/mask_rcnn_damage_detection/requirements.txt (line 12)) (1.7.0)\n",
            "Requirement already satisfied: pygments in /usr/local/lib/python3.6/dist-packages (from IPython[all]->-r /content/CarDamageMaskRCNN/mask_rcnn_damage_detection/requirements.txt (line 13)) (2.1.3)\n",
            "Requirement already satisfied: prompt-toolkit<2.0.0,>=1.0.4 in /usr/local/lib/python3.6/dist-packages (from IPython[all]->-r /content/CarDamageMaskRCNN/mask_rcnn_damage_detection/requirements.txt (line 13)) (1.0.18)\n",
            "Requirement already satisfied: setuptools>=18.5 in /usr/local/lib/python3.6/dist-packages (from IPython[all]->-r /content/CarDamageMaskRCNN/mask_rcnn_damage_detection/requirements.txt (line 13)) (49.1.0)\n",
            "Requirement already satisfied: pexpect; sys_platform != \"win32\" in /usr/local/lib/python3.6/dist-packages (from IPython[all]->-r /content/CarDamageMaskRCNN/mask_rcnn_damage_detection/requirements.txt (line 13)) (4.8.0)\n",
            "Requirement already satisfied: traitlets>=4.2 in /usr/local/lib/python3.6/dist-packages (from IPython[all]->-r /content/CarDamageMaskRCNN/mask_rcnn_damage_detection/requirements.txt (line 13)) (4.3.3)\n",
            "Requirement already satisfied: decorator in /usr/local/lib/python3.6/dist-packages (from IPython[all]->-r /content/CarDamageMaskRCNN/mask_rcnn_damage_detection/requirements.txt (line 13)) (4.4.2)\n",
            "Requirement already satisfied: pickleshare in /usr/local/lib/python3.6/dist-packages (from IPython[all]->-r /content/CarDamageMaskRCNN/mask_rcnn_damage_detection/requirements.txt (line 13)) (0.7.5)\n",
            "Requirement already satisfied: simplegeneric>0.8 in /usr/local/lib/python3.6/dist-packages (from IPython[all]->-r /content/CarDamageMaskRCNN/mask_rcnn_damage_detection/requirements.txt (line 13)) (0.8.1)\n",
            "Requirement already satisfied: ipykernel; extra == \"all\" in /usr/local/lib/python3.6/dist-packages (from IPython[all]->-r /content/CarDamageMaskRCNN/mask_rcnn_damage_detection/requirements.txt (line 13)) (4.10.1)\n",
            "Requirement already satisfied: nbformat; extra == \"all\" in /usr/local/lib/python3.6/dist-packages (from IPython[all]->-r /content/CarDamageMaskRCNN/mask_rcnn_damage_detection/requirements.txt (line 13)) (5.0.7)\n",
            "Requirement already satisfied: Sphinx>=1.3; extra == \"all\" in /usr/local/lib/python3.6/dist-packages (from IPython[all]->-r /content/CarDamageMaskRCNN/mask_rcnn_damage_detection/requirements.txt (line 13)) (1.8.5)\n",
            "Requirement already satisfied: notebook; extra == \"all\" in /usr/local/lib/python3.6/dist-packages (from IPython[all]->-r /content/CarDamageMaskRCNN/mask_rcnn_damage_detection/requirements.txt (line 13)) (5.3.1)\n",
            "Collecting ipyparallel; extra == \"all\"\n",
            "\u001b[?25l  Downloading https://files.pythonhosted.org/packages/3b/e9/03a9189eb39276396309faf28bf833b4328befe4513bbf375b811a36a076/ipyparallel-6.3.0-py3-none-any.whl (199kB)\n",
            "\u001b[K     |████████████████████████████████| 204kB 65.6MB/s \n",
            "\u001b[?25hRequirement already satisfied: ipywidgets; extra == \"all\" in /usr/local/lib/python3.6/dist-packages (from IPython[all]->-r /content/CarDamageMaskRCNN/mask_rcnn_damage_detection/requirements.txt (line 13)) (7.5.1)\n",
            "Requirement already satisfied: testpath; extra == \"all\" in /usr/local/lib/python3.6/dist-packages (from IPython[all]->-r /content/CarDamageMaskRCNN/mask_rcnn_damage_detection/requirements.txt (line 13)) (0.4.4)\n",
            "Requirement already satisfied: requests; extra == \"all\" in /usr/local/lib/python3.6/dist-packages (from IPython[all]->-r /content/CarDamageMaskRCNN/mask_rcnn_damage_detection/requirements.txt (line 13)) (2.23.0)\n",
            "Collecting nose>=0.10.1; extra == \"all\"\n",
            "\u001b[?25l  Downloading https://files.pythonhosted.org/packages/15/d8/dd071918c040f50fa1cf80da16423af51ff8ce4a0f2399b7bf8de45ac3d9/nose-1.3.7-py3-none-any.whl (154kB)\n",
            "\u001b[K     |████████████████████████████████| 163kB 62.9MB/s \n",
            "\u001b[?25hRequirement already satisfied: qtconsole; extra == \"all\" in /usr/local/lib/python3.6/dist-packages (from IPython[all]->-r /content/CarDamageMaskRCNN/mask_rcnn_damage_detection/requirements.txt (line 13)) (4.7.5)\n",
            "Requirement already satisfied: nbconvert; extra == \"all\" in /usr/local/lib/python3.6/dist-packages (from IPython[all]->-r /content/CarDamageMaskRCNN/mask_rcnn_damage_detection/requirements.txt (line 13)) (5.6.1)\n",
            "Requirement already satisfied: werkzeug>=0.11.15 in /usr/local/lib/python3.6/dist-packages (from tensorboard<1.15.0,>=1.14.0->tensorflow-gpu==1.14.0->-r /content/CarDamageMaskRCNN/mask_rcnn_damage_detection/requirements.txt (line 8)) (1.0.1)\n",
            "Requirement already satisfied: markdown>=2.6.8 in /usr/local/lib/python3.6/dist-packages (from tensorboard<1.15.0,>=1.14.0->tensorflow-gpu==1.14.0->-r /content/CarDamageMaskRCNN/mask_rcnn_damage_detection/requirements.txt (line 8)) (3.2.2)\n",
            "Requirement already satisfied: wcwidth in /usr/local/lib/python3.6/dist-packages (from prompt-toolkit<2.0.0,>=1.0.4->IPython[all]->-r /content/CarDamageMaskRCNN/mask_rcnn_damage_detection/requirements.txt (line 13)) (0.2.5)\n",
            "Requirement already satisfied: ptyprocess>=0.5 in /usr/local/lib/python3.6/dist-packages (from pexpect; sys_platform != \"win32\"->IPython[all]->-r /content/CarDamageMaskRCNN/mask_rcnn_damage_detection/requirements.txt (line 13)) (0.6.0)\n",
            "Requirement already satisfied: ipython-genutils in /usr/local/lib/python3.6/dist-packages (from traitlets>=4.2->IPython[all]->-r /content/CarDamageMaskRCNN/mask_rcnn_damage_detection/requirements.txt (line 13)) (0.2.0)\n",
            "Requirement already satisfied: jupyter-client in /usr/local/lib/python3.6/dist-packages (from ipykernel; extra == \"all\"->IPython[all]->-r /content/CarDamageMaskRCNN/mask_rcnn_damage_detection/requirements.txt (line 13)) (5.3.5)\n",
            "Requirement already satisfied: tornado>=4.0 in /usr/local/lib/python3.6/dist-packages (from ipykernel; extra == \"all\"->IPython[all]->-r /content/CarDamageMaskRCNN/mask_rcnn_damage_detection/requirements.txt (line 13)) (5.1.1)\n",
            "Requirement already satisfied: jupyter-core in /usr/local/lib/python3.6/dist-packages (from nbformat; extra == \"all\"->IPython[all]->-r /content/CarDamageMaskRCNN/mask_rcnn_damage_detection/requirements.txt (line 13)) (4.6.3)\n",
            "Requirement already satisfied: jsonschema!=2.5.0,>=2.4 in /usr/local/lib/python3.6/dist-packages (from nbformat; extra == \"all\"->IPython[all]->-r /content/CarDamageMaskRCNN/mask_rcnn_damage_detection/requirements.txt (line 13)) (2.6.0)\n",
            "Requirement already satisfied: snowballstemmer>=1.1 in /usr/local/lib/python3.6/dist-packages (from Sphinx>=1.3; extra == \"all\"->IPython[all]->-r /content/CarDamageMaskRCNN/mask_rcnn_damage_detection/requirements.txt (line 13)) (2.0.0)\n",
            "Requirement already satisfied: Jinja2>=2.3 in /usr/local/lib/python3.6/dist-packages (from Sphinx>=1.3; extra == \"all\"->IPython[all]->-r /content/CarDamageMaskRCNN/mask_rcnn_damage_detection/requirements.txt (line 13)) (2.11.2)\n",
            "Requirement already satisfied: alabaster<0.8,>=0.7 in /usr/local/lib/python3.6/dist-packages (from Sphinx>=1.3; extra == \"all\"->IPython[all]->-r /content/CarDamageMaskRCNN/mask_rcnn_damage_detection/requirements.txt (line 13)) (0.7.12)\n",
            "Requirement already satisfied: babel!=2.0,>=1.3 in /usr/local/lib/python3.6/dist-packages (from Sphinx>=1.3; extra == \"all\"->IPython[all]->-r /content/CarDamageMaskRCNN/mask_rcnn_damage_detection/requirements.txt (line 13)) (2.8.0)\n",
            "Requirement already satisfied: packaging in /usr/local/lib/python3.6/dist-packages (from Sphinx>=1.3; extra == \"all\"->IPython[all]->-r /content/CarDamageMaskRCNN/mask_rcnn_damage_detection/requirements.txt (line 13)) (20.4)\n",
            "Requirement already satisfied: docutils>=0.11 in /usr/local/lib/python3.6/dist-packages (from Sphinx>=1.3; extra == \"all\"->IPython[all]->-r /content/CarDamageMaskRCNN/mask_rcnn_damage_detection/requirements.txt (line 13)) (0.15.2)\n",
            "Requirement already satisfied: sphinxcontrib-websupport in /usr/local/lib/python3.6/dist-packages (from Sphinx>=1.3; extra == \"all\"->IPython[all]->-r /content/CarDamageMaskRCNN/mask_rcnn_damage_detection/requirements.txt (line 13)) (1.2.3)\n",
            "Requirement already satisfied: imagesize in /usr/local/lib/python3.6/dist-packages (from Sphinx>=1.3; extra == \"all\"->IPython[all]->-r /content/CarDamageMaskRCNN/mask_rcnn_damage_detection/requirements.txt (line 13)) (1.2.0)\n",
            "Requirement already satisfied: Send2Trash in /usr/local/lib/python3.6/dist-packages (from notebook; extra == \"all\"->IPython[all]->-r /content/CarDamageMaskRCNN/mask_rcnn_damage_detection/requirements.txt (line 13)) (1.5.0)\n",
            "Requirement already satisfied: terminado>=0.8.1 in /usr/local/lib/python3.6/dist-packages (from notebook; extra == \"all\"->IPython[all]->-r /content/CarDamageMaskRCNN/mask_rcnn_damage_detection/requirements.txt (line 13)) (0.8.3)\n",
            "Requirement already satisfied: pyzmq>=13 in /usr/local/lib/python3.6/dist-packages (from ipyparallel; extra == \"all\"->IPython[all]->-r /content/CarDamageMaskRCNN/mask_rcnn_damage_detection/requirements.txt (line 13)) (19.0.1)\n",
            "Requirement already satisfied: widgetsnbextension~=3.5.0 in /usr/local/lib/python3.6/dist-packages (from ipywidgets; extra == \"all\"->IPython[all]->-r /content/CarDamageMaskRCNN/mask_rcnn_damage_detection/requirements.txt (line 13)) (3.5.1)\n",
            "Requirement already satisfied: idna<3,>=2.5 in /usr/local/lib/python3.6/dist-packages (from requests; extra == \"all\"->IPython[all]->-r /content/CarDamageMaskRCNN/mask_rcnn_damage_detection/requirements.txt (line 13)) (2.10)\n",
            "Requirement already satisfied: certifi>=2017.4.17 in /usr/local/lib/python3.6/dist-packages (from requests; extra == \"all\"->IPython[all]->-r /content/CarDamageMaskRCNN/mask_rcnn_damage_detection/requirements.txt (line 13)) (2020.6.20)\n",
            "Requirement already satisfied: urllib3!=1.25.0,!=1.25.1,<1.26,>=1.21.1 in /usr/local/lib/python3.6/dist-packages (from requests; extra == \"all\"->IPython[all]->-r /content/CarDamageMaskRCNN/mask_rcnn_damage_detection/requirements.txt (line 13)) (1.24.3)\n",
            "Requirement already satisfied: chardet<4,>=3.0.2 in /usr/local/lib/python3.6/dist-packages (from requests; extra == \"all\"->IPython[all]->-r /content/CarDamageMaskRCNN/mask_rcnn_damage_detection/requirements.txt (line 13)) (3.0.4)\n",
            "Requirement already satisfied: qtpy in /usr/local/lib/python3.6/dist-packages (from qtconsole; extra == \"all\"->IPython[all]->-r /content/CarDamageMaskRCNN/mask_rcnn_damage_detection/requirements.txt (line 13)) (1.9.0)\n",
            "Requirement already satisfied: entrypoints>=0.2.2 in /usr/local/lib/python3.6/dist-packages (from nbconvert; extra == \"all\"->IPython[all]->-r /content/CarDamageMaskRCNN/mask_rcnn_damage_detection/requirements.txt (line 13)) (0.3)\n",
            "Requirement already satisfied: bleach in /usr/local/lib/python3.6/dist-packages (from nbconvert; extra == \"all\"->IPython[all]->-r /content/CarDamageMaskRCNN/mask_rcnn_damage_detection/requirements.txt (line 13)) (3.1.5)\n",
            "Requirement already satisfied: pandocfilters>=1.4.1 in /usr/local/lib/python3.6/dist-packages (from nbconvert; extra == \"all\"->IPython[all]->-r /content/CarDamageMaskRCNN/mask_rcnn_damage_detection/requirements.txt (line 13)) (1.4.2)\n",
            "Requirement already satisfied: defusedxml in /usr/local/lib/python3.6/dist-packages (from nbconvert; extra == \"all\"->IPython[all]->-r /content/CarDamageMaskRCNN/mask_rcnn_damage_detection/requirements.txt (line 13)) (0.6.0)\n",
            "Requirement already satisfied: mistune<2,>=0.8.1 in /usr/local/lib/python3.6/dist-packages (from nbconvert; extra == \"all\"->IPython[all]->-r /content/CarDamageMaskRCNN/mask_rcnn_damage_detection/requirements.txt (line 13)) (0.8.4)\n",
            "Requirement already satisfied: importlib-metadata; python_version < \"3.8\" in /usr/local/lib/python3.6/dist-packages (from markdown>=2.6.8->tensorboard<1.15.0,>=1.14.0->tensorflow-gpu==1.14.0->-r /content/CarDamageMaskRCNN/mask_rcnn_damage_detection/requirements.txt (line 8)) (1.7.0)\n",
            "Requirement already satisfied: MarkupSafe>=0.23 in /usr/local/lib/python3.6/dist-packages (from Jinja2>=2.3->Sphinx>=1.3; extra == \"all\"->IPython[all]->-r /content/CarDamageMaskRCNN/mask_rcnn_damage_detection/requirements.txt (line 13)) (1.1.1)\n",
            "Requirement already satisfied: pytz>=2015.7 in /usr/local/lib/python3.6/dist-packages (from babel!=2.0,>=1.3->Sphinx>=1.3; extra == \"all\"->IPython[all]->-r /content/CarDamageMaskRCNN/mask_rcnn_damage_detection/requirements.txt (line 13)) (2018.9)\n",
            "Requirement already satisfied: webencodings in /usr/local/lib/python3.6/dist-packages (from bleach->nbconvert; extra == \"all\"->IPython[all]->-r /content/CarDamageMaskRCNN/mask_rcnn_damage_detection/requirements.txt (line 13)) (0.5.1)\n",
            "Requirement already satisfied: zipp>=0.5 in /usr/local/lib/python3.6/dist-packages (from importlib-metadata; python_version < \"3.8\"->markdown>=2.6.8->tensorboard<1.15.0,>=1.14.0->tensorflow-gpu==1.14.0->-r /content/CarDamageMaskRCNN/mask_rcnn_damage_detection/requirements.txt (line 8)) (3.1.0)\n",
            "\u001b[31mERROR: fancyimpute 0.4.3 requires tensorflow, which is not installed.\u001b[0m\n",
            "Installing collected packages: tensorboard, tensorflow-estimator, tensorflow-gpu, keras, ipyparallel, nose\n",
            "  Found existing installation: tensorboard 2.2.2\n",
            "    Uninstalling tensorboard-2.2.2:\n",
            "      Successfully uninstalled tensorboard-2.2.2\n",
            "  Found existing installation: tensorflow-estimator 2.2.0\n",
            "    Uninstalling tensorflow-estimator-2.2.0:\n",
            "      Successfully uninstalled tensorflow-estimator-2.2.0\n",
            "  Found existing installation: Keras 2.3.1\n",
            "    Uninstalling Keras-2.3.1:\n",
            "      Successfully uninstalled Keras-2.3.1\n",
            "Successfully installed ipyparallel-6.3.0 keras-2.1.5 nose-1.3.7 tensorboard-1.14.0 tensorflow-estimator-1.14.0 tensorflow-gpu-1.14.0\n"
          ],
          "name": "stdout"
        }
      ]
    },
    {
      "cell_type": "code",
      "metadata": {
        "id": "XaIu-w2f8XpM",
        "colab_type": "code",
        "colab": {}
      },
      "source": [
        "import os\n",
        "os.chdir('/content/CarDamageMaskRCNN/mask_rcnn_damage_detection')"
      ],
      "execution_count": 5,
      "outputs": []
    },
    {
      "cell_type": "markdown",
      "metadata": {
        "id": "eRESObug2gBg",
        "colab_type": "text"
      },
      "source": [
        "## 1 Import Dependencies "
      ]
    },
    {
      "cell_type": "code",
      "metadata": {
        "id": "fGtt-o7u2gBh",
        "colab_type": "code",
        "colab": {}
      },
      "source": [
        "# import os\n",
        "import sys\n",
        "import json\n",
        "import datetime\n",
        "import numpy as np\n",
        "import skimage.draw\n",
        "#numthip add on 20200721 : in order to dont show the warning \n",
        "import warnings\n",
        "warnings.filterwarnings(\"ignore\")\n",
        "\n",
        "import cv2\n",
        "from mrcnn.visualize import display_instances\n",
        "import matplotlib.pyplot as plt\n",
        "\n",
        "# numthip add on 20200719 for img augmentation train\n",
        "import imgaug as ia\n",
        "from imgaug import augmenters as iaa\n",
        "\n",
        "# Root directory of the project\n",
        "# ROOT_DIR = os.path.abspath(\"../../\")\n",
        "# ROOT_DIR = os.path.abspath(\"../\")\n",
        "# 20200627\n",
        "ROOT_DIR = os.getcwd()"
      ],
      "execution_count": 6,
      "outputs": []
    },
    {
      "cell_type": "markdown",
      "metadata": {
        "id": "Hhzhtc5Z2gBk",
        "colab_type": "text"
      },
      "source": [
        "## 2 Constant"
      ]
    },
    {
      "cell_type": "code",
      "metadata": {
        "id": "IiHZunST2gBl",
        "colab_type": "code",
        "colab": {
          "base_uri": "https://localhost:8080/",
          "height": 116
        },
        "outputId": "2421dc52-d96a-4f48-bdaf-7771f02b9036"
      },
      "source": [
        "# Import Mask RCNN\n",
        "sys.path.append(ROOT_DIR)  # To find local version of the library\n",
        "from mrcnn.config import Config\n",
        "from mrcnn import model as modellib, utils\n",
        "\n",
        "# Cocmmand\n",
        "DEFAULT_COMMAND = \"train\"\n",
        "print(\"Command : \",DEFAULT_COMMAND)\n",
        "\n",
        "# Weight\n",
        "# 20200716 numthip k. comment ::>> DEFAULT_WEIGHT = \"last\"\n",
        "DEFAULT_WEIGHT = \"coco\"\n",
        "print(\"WEIGHT : \",DEFAULT_WEIGHT)\n",
        "\n",
        "# Path to trained weights file\n",
        "# COCO_WEIGHTS_PATH = os.path.join(ROOT_DIR, \"mask_rcnn_coco.h5\")\n",
        "COCO_WEIGHTS_PATH = '/content/gdrive/My Drive/mask_rcnn/mask_rcnn_coco.h5'\n",
        "print(\"Coco Weights Path : \",COCO_WEIGHTS_PATH)\n",
        "\n",
        "# Directory to save logs and model checkpoints, if not provided\n",
        "# through the command line argument --logs\n",
        "DEFAULT_LOGS_DIR = os.path.join(ROOT_DIR, \"logs\")\n",
        "print(\"Log path : \", DEFAULT_LOGS_DIR)\n",
        "\n",
        "# Directory of data\n",
        "# DEFAULT_DATASET = os.path.join(os.getcwd(), \"customImages\")\n",
        "DEFAULT_DATASET = '/content/gdrive/My Drive/mask_rcnn/customImages'\n",
        "print(\"Dataset path : \", DEFAULT_DATASET)\n",
        "\n",
        "# Path to trained weights file\n",
        "# LAST_WEIGHTS_PATH = os.path.join(ROOT_DIR, \"mask_rcnn_coco.h5\")\n",
        "LAST_WEIGHTS_PATH = '/content/gdrive/My Drive/mask_rcnn/mask_rcnn_coco.h5'\n",
        "\n",
        "# os.path.join(os.path.abspath(\"../logs/damage20200628T1311\"), \"mask_rcnn_damage_0010.h5\")\n",
        "#print(\"Last Weights Path : \",LAST_WEIGHTS_PATH)\n",
        " \n",
        "    \n",
        "# Numthip Add constnt epoch \n",
        "# number of epoch for training \n",
        "EPOCHS_CONST = 40\n"
      ],
      "execution_count": 7,
      "outputs": [
        {
          "output_type": "stream",
          "text": [
            "Command :  train\n",
            "WEIGHT :  coco\n",
            "Coco Weights Path :  /content/gdrive/My Drive/mask_rcnn/mask_rcnn_coco.h5\n",
            "Log path :  /content/CarDamageMaskRCNN/mask_rcnn_damage_detection/logs\n",
            "Dataset path :  /content/gdrive/My Drive/mask_rcnn/customImages\n"
          ],
          "name": "stdout"
        },
        {
          "output_type": "stream",
          "text": [
            "Using TensorFlow backend.\n"
          ],
          "name": "stderr"
        }
      ]
    },
    {
      "cell_type": "markdown",
      "metadata": {
        "id": "JGoiH84X2gBn",
        "colab_type": "text"
      },
      "source": [
        "## 3 Configurations"
      ]
    },
    {
      "cell_type": "code",
      "metadata": {
        "id": "0zgTvRek2gBo",
        "colab_type": "code",
        "colab": {}
      },
      "source": [
        "class CustomConfig(Config):\n",
        "    \"\"\"Configuration for training on the toy  dataset.\n",
        "    Derives from the base Config class and overrides some values.\n",
        "    \"\"\"\n",
        "    # Give the configuration a recognizable name\n",
        "    NAME = \"damage\"\n",
        "\n",
        "    # We use a GPU with 12GB memory, which can fit two images.\n",
        "    # Adjust down if you use a smaller GPU.\n",
        "#     IMAGES_PER_GPU = 2 Numthip\n",
        "    IMAGES_PER_GPU = 1\n",
        "\n",
        "    # Number of classes (including background)\n",
        "    NUM_CLASSES = 1 + 1  # Background + toy\n",
        "\n",
        "    # Number of training steps per epoch \n",
        "    # 20200716 : numthip changes from 100  to 200 \n",
        "    STEPS_PER_EPOCH = 600\n",
        "\n",
        "    # Skip detections with < 90% confidence\n",
        "    DETECTION_MIN_CONFIDENCE = 0.9"
      ],
      "execution_count": 8,
      "outputs": []
    },
    {
      "cell_type": "markdown",
      "metadata": {
        "id": "41CbEp6w2gBq",
        "colab_type": "text"
      },
      "source": [
        "\n",
        "## 4 Dataset"
      ]
    },
    {
      "cell_type": "code",
      "metadata": {
        "id": "1MgDQDpB2gBq",
        "colab_type": "code",
        "colab": {}
      },
      "source": [
        "class CustomDataset(utils.Dataset):\n",
        "\n",
        "    def load_custom(self, dataset_dir, subset):\n",
        "        \"\"\"Load a subset of the Balloon dataset.\n",
        "        dataset_dir: Root directory of the dataset.\n",
        "        subset: Subset to load: train or val\n",
        "        \"\"\"\n",
        "        # Add classes. We have only one class to add.\n",
        "        self.add_class(\"damage\", 1, \"damage\")\n",
        "\n",
        "        # Train or validation dataset?\n",
        "        assert subset in [\"train\", \"val\", \"test\"]\n",
        "        # dataset_dir = os.path.join(dataset_dir, subset)\n",
        "        dataset_dir = os.path.join(dataset_dir, subset)\n",
        "\n",
        "        # Load annotations\n",
        "        # VGG Image Annotator saves each image in the form:\n",
        "        # { 'filename': '28503151_5b5b7ec140_b.jpg',\n",
        "        #   'regions': {\n",
        "        #       '0': {\n",
        "        #           'region_attributes': {},\n",
        "        #           'shape_attributes': {\n",
        "        #               'all_points_x': [...],\n",
        "        #               'all_points_y': [...],\n",
        "        #               'name': 'polygon'}},\n",
        "        #       ... more regions ...\n",
        "        #   },\n",
        "        #   'size': 100202\n",
        "        # }\n",
        "        # We mostly care about the x and y coordinates of each region\n",
        "        annotations1 = json.load(open(os.path.join(dataset_dir, \"via_region_data.json\")))\n",
        "        # print(annotations1)\n",
        "        annotations = list(annotations1.values())  # don't need the dict keys\n",
        "\n",
        "        # The VIA tool saves images in the JSON even if they don't have any\n",
        "        # annotations. Skip unannotated images.\n",
        "        annotations = [a for a in annotations if a['regions']]\n",
        "\n",
        "        # Add images\n",
        "        for a in annotations:\n",
        "            # print(a)\n",
        "            # Get the x, y coordinaets of points of the polygons that make up\n",
        "            # the outline of each object instance. There are stores in the\n",
        "            # shape_attributes (see json format above)\n",
        "            polygons = [r['shape_attributes'] for r in a['regions'].values()]\n",
        "\n",
        "            # load_mask() needs the image size to convert polygons to masks.\n",
        "            # Unfortunately, VIA doesn't include it in JSON, so we must read\n",
        "            # the image. This is only managable since the dataset is tiny.\n",
        "            image_path = os.path.join(dataset_dir, a['filename'])\n",
        "            image = skimage.io.imread(image_path)\n",
        "            height, width = image.shape[:2]\n",
        "\n",
        "            self.add_image(\n",
        "                \"damage\",  ## for a single class just add the name here\n",
        "                image_id=a['filename'],  # use file name as a unique image id\n",
        "                path=image_path,\n",
        "                width=width, height=height,\n",
        "                polygons=polygons)\n",
        "\n",
        "    def load_mask(self, image_id):\n",
        "        \"\"\"Generate instance masks for an image.\n",
        "       Returns:\n",
        "        masks: A bool array of shape [height, width, instance count] with\n",
        "            one mask per instance.\n",
        "        class_ids: a 1D array of class IDs of the instance masks.\n",
        "        \"\"\"\n",
        "        # If not a balloon dataset image, delegate to parent class.\n",
        "        image_info = self.image_info[image_id]\n",
        "        if image_info[\"source\"] != \"damage\":\n",
        "            return super(self.__class__, self).load_mask(image_id)\n",
        "\n",
        "        # Convert polygons to a bitmap mask of shape\n",
        "        # [height, width, instance_count]\n",
        "        info = self.image_info[image_id]\n",
        "        mask = np.zeros([info[\"height\"], info[\"width\"], len(info[\"polygons\"])],\n",
        "                        dtype=np.uint8)\n",
        "        for i, p in enumerate(info[\"polygons\"]):\n",
        "            # Get indexes of pixels inside the polygon and set them to 1\n",
        "            rr, cc = skimage.draw.polygon(p['all_points_y'], p['all_points_x'])\n",
        "            mask[rr, cc, i] = 1\n",
        "\n",
        "        # Return mask, and array of class IDs of each instance. Since we have\n",
        "        # one class ID only, we return an array of 1s\n",
        "        return mask.astype(np.bool), np.ones([mask.shape[-1]], dtype=np.int32)\n",
        "\n",
        "    def image_reference(self, image_id):\n",
        "        \"\"\"Return the path of the image.\"\"\"\n",
        "        info = self.image_info[image_id]\n",
        "        if info[\"source\"] == \"damage\":\n",
        "            return info[\"path\"]\n",
        "        else:\n",
        "            super(self.__class__, self).image_reference(image_id)"
      ],
      "execution_count": null,
      "outputs": []
    },
    {
      "cell_type": "markdown",
      "metadata": {
        "id": "f2vKBCs42gBs",
        "colab_type": "text"
      },
      "source": [
        "## 5 Image Augmentation \n",
        "only horizontol flip here"
      ]
    },
    {
      "cell_type": "code",
      "metadata": {
        "id": "CK7HRdjO2gBt",
        "colab_type": "code",
        "colab": {}
      },
      "source": [
        "#2020719 - Numthip added  augmentationof the images set to be horizontal flip \n",
        "#augmentation = iaa.Sequential([\n",
        "#    iaa.Fliplr(0.5) # only horizontal flip here\n",
        "#])\n",
        "augmentation = iaa.Sequential([\n",
        "    iaa.OneOf([ ## rotate\n",
        "        iaa.Affine(rotate=0),\n",
        "        iaa.Affine(rotate=90),\n",
        "    ]),\n",
        "    iaa.Fliplr(0.5),\n",
        "    iaa.Flipud(0.5),\n",
        "    iaa.OneOf([ ## brightness or contrast\n",
        "        iaa.Multiply((0.9, 1.1)),\n",
        "        iaa.ContrastNormalization((0.9, 1.1)),\n",
        "    ]),\n",
        "    iaa.OneOf([ ## blur or sharpen\n",
        "        iaa.GaussianBlur(sigma=(0.0, 0.1)),\n",
        "        iaa.Sharpen(alpha=(0.0, 0.1)),\n",
        "    ]),\n",
        "])\n"
      ],
      "execution_count": null,
      "outputs": []
    },
    {
      "cell_type": "code",
      "metadata": {
        "id": "E9hD7NiU2gBv",
        "colab_type": "code",
        "colab": {}
      },
      "source": [
        "def train(model):\n",
        "    \"\"\"Train the model.\"\"\"\n",
        "    # Training dataset.\n",
        "    dataset_train = CustomDataset()\n",
        "    dataset_train.load_custom(DEFAULT_DATASET, \"train\")\n",
        "    dataset_train.prepare()\n",
        "\n",
        "    # Validation dataset\n",
        "    dataset_val = CustomDataset()\n",
        "    dataset_val.load_custom(DEFAULT_DATASET, \"val\")\n",
        "    dataset_val.prepare()\n",
        "\n",
        "    # *** This training schedule is an example. Update to your needs ***\n",
        "    # Since we're using a very small dataset, and starting from\n",
        "    # COCO trained weights, we don't need to train too long. Also,\n",
        "    # no need to train all layers, just the heads should do it.\n",
        "      # 20200716 : numthip changes from 100  to 200 \n",
        "        #model.train(dataset_train, dataset_val,\n",
        "        #       learning_rate=config.LEARNING_RATE,\n",
        "        #      epochs=10,\n",
        "        #     layers='heads')\n",
        "        #,#augmentation=augmentation)\n",
        "        \n",
        "    ##Numthip Add : 20200726 \n",
        "    ##add call back for mAP Cal as Link: \"https://github.com/matterport/Mask_RCNN/issues/1839\" \n",
        "    ##custom_callbacks\n",
        "    \n",
        "    # model_inference = modellib.MaskRCNN(mode=\"inference\", config=config, model_dir=DEFAULT_LOGS_DIR)\n",
        "    \n",
        "    # mean_average_precision_callback = modellib.MeanAveragePrecisionCallback(model\n",
        "    #                                                                         , model_inference\n",
        "    #                                                                         , dataset_val\n",
        "    #                                                                         , calculate_map_at_every_X_epoch=5\n",
        "    #                                                                         , verbose=1)\n",
        "        \n",
        "    model.train(dataset_train, dataset_val,\n",
        "             learning_rate=config.LEARNING_RATE,\n",
        "             epochs=EPOCHS_CONST,\n",
        "             layers='all')\n",
        "             #,augmentation=augmentation)\n",
        "             #,\n",
        "             #custom_callbacks=[mean_average_precision_callback])\n",
        "  "
      ],
      "execution_count": null,
      "outputs": []
    },
    {
      "cell_type": "code",
      "metadata": {
        "id": "KeWRQASn2gBx",
        "colab_type": "code",
        "colab": {}
      },
      "source": [
        "def color_splash(image, mask):\n",
        "    \"\"\"Apply color splash effect.\n",
        "    image: RGB image [height, width, 3]\n",
        "    mask: instance segmentation mask [height, width, instance count]\n",
        "\n",
        "    Returns result image.\n",
        "    \"\"\"\n",
        "    # Make a grayscale copy of the image. The grayscale copy still\n",
        "    # has 3 RGB channels, though.\n",
        "    gray = skimage.color.gray2rgb(skimage.color.rgb2gray(image)) * 255\n",
        "    # We're treating all instances as one, so collapse the mask into one layer\n",
        "    mask = (np.sum(mask, -1, keepdims=True) >= 1)\n",
        "    # Copy color pixels from the original color image where mask is set\n",
        "    if mask.shape[0] > 0:\n",
        "        splash = np.where(mask, image, gray).astype(np.uint8)\n",
        "    else:\n",
        "        splash = gray\n",
        "    return splash"
      ],
      "execution_count": null,
      "outputs": []
    },
    {
      "cell_type": "markdown",
      "metadata": {
        "id": "naszDez12gBz",
        "colab_type": "text"
      },
      "source": [
        "## 6 Training"
      ]
    },
    {
      "cell_type": "code",
      "metadata": {
        "id": "yUtDl7V12gB0",
        "colab_type": "code",
        "colab": {}
      },
      "source": [
        "if __name__ == '__main__':\n",
        "\n",
        "    # Configurations\n",
        "    if DEFAULT_COMMAND == \"train\":\n",
        "        config = CustomConfig()\n",
        "    else:\n",
        "        class InferenceConfig(CustomConfig):\n",
        "            # Set batch size to 1 since we'll be running inference on\n",
        "            # one image at a time. Batch size = GPU_COUNT * IMAGES_PER_GPU\n",
        "            GPU_COUNT = 1\n",
        "            IMAGES_PER_GPU = 1\n",
        "        config = InferenceConfig()\n",
        "    config.display()\n",
        "\n",
        "    # Create model\n",
        "    if DEFAULT_COMMAND == \"train\":\n",
        "        model = modellib.MaskRCNN(mode=\"training\", config=config,\n",
        "                                  model_dir=DEFAULT_LOGS_DIR)\n",
        "    else:\n",
        "        model = modellib.MaskRCNN(mode=\"inference\", config=config,\n",
        "                                  model_dir=DEFAULT_LOGS_DIR)\n",
        "\n",
        "    # Select weights file to load\n",
        "    if DEFAULT_WEIGHT.lower() == \"coco\":\n",
        "        weights_path = COCO_WEIGHTS_PATH\n",
        "        # Download weights file\n",
        "        if not os.path.exists(weights_path):\n",
        "            utils.download_trained_weights(weights_path)\n",
        "    elif DEFAULT_WEIGHT.lower() == \"last\":\n",
        "        # Find last trained weights\n",
        "        weights_path = LAST_WEIGHTS_PATH\n",
        "    elif DEFAULT_WEIGHT.lower() == \"imagenet\":\n",
        "        # Start from ImageNet trained weights\n",
        "        weights_path = model.get_imagenet_weights()\n",
        "    else:\n",
        "        weights_path = DEFAULT_WEIGHT\n",
        "\n",
        "    # Load weights\n",
        "    print(\"Loading weights \", weights_path)\n",
        "    if DEFAULT_WEIGHT.lower() == \"coco\":\n",
        "        # Exclude the last layers because they require a matching\n",
        "        # number of classes\n",
        "        model.load_weights(weights_path, by_name=True, exclude=[\n",
        "            \"mrcnn_class_logits\", \"mrcnn_bbox_fc\",\n",
        "            \"mrcnn_bbox\", \"mrcnn_mask\"])\n",
        "    else:\n",
        "        model.load_weights(weights_path, by_name=True)\n",
        "\n",
        "    # Train\n",
        "    train(model)\n",
        "    \n",
        "    history = model.keras_model.history.history"
      ],
      "execution_count": null,
      "outputs": []
    },
    {
      "cell_type": "markdown",
      "metadata": {
        "id": "0Zhia68w2gB2",
        "colab_type": "text"
      },
      "source": [
        "## 7 Evaluate Model Loss and Val Loss"
      ]
    },
    {
      "cell_type": "code",
      "metadata": {
        "id": "Pj5WFUfO2gB2",
        "colab_type": "code",
        "colab": {}
      },
      "source": [
        "# numthip add chart train loss and valid loss \n",
        "\n",
        "epochs = range(EPOCHS_CONST)\n",
        "\n",
        "plt.figure(figsize=(18, 6))\n",
        "\n",
        "plt.subplot(131)\n",
        "plt.title('loss')\n",
        "plt.plot(epochs, history['loss'], label=\"train loss\")\n",
        "plt.plot(epochs, history['val_loss'], label=\"valid loss\")\n",
        "plt.legend()\n",
        "plt.subplot(132)\n",
        "plt.title('mrcnn_class_loss')\n",
        "plt.plot(epochs, history['mrcnn_class_loss'], label=\"train class loss\")\n",
        "plt.plot(epochs, history['val_mrcnn_class_loss'], label=\"valid class loss\")\n",
        "plt.legend()\n",
        "plt.subplot(133)\n",
        "plt.title('mrcnn_mask_loss')\n",
        "plt.plot(epochs, history['mrcnn_mask_loss'], label=\"train mask loss\")\n",
        "plt.plot(epochs, history['val_mrcnn_mask_loss'], label=\"valid mask loss\")\n",
        "plt.legend()\n",
        "\n",
        "plt.show()\n",
        "\n",
        "best_epoch = np.argmin(history[\"val_loss\"]) + 1\n",
        "print(\"Best epoch: \", best_epoch)\n",
        "print(\"Valid loss: \", history[\"val_loss\"][best_epoch-1])\n",
        "\n",
        "best_epoch2 = np.argmin(history[\"val_loss\"])\n",
        "print(\"Best Epoch:\", best_epoch2 + 1, history[\"val_loss\"][best_epoch2])\n"
      ],
      "execution_count": null,
      "outputs": []
    },
    {
      "cell_type": "code",
      "metadata": {
        "id": "n02gZlLm2gB4",
        "colab_type": "code",
        "colab": {}
      },
      "source": [
        "# numthip add to print  train loss and valid loss \n",
        "#epochs = range(1,len(next(iter(history.values())))+1)\n",
        "#pd.DataFrame(history, index=epochs)"
      ],
      "execution_count": null,
      "outputs": []
    },
    {
      "cell_type": "markdown",
      "metadata": {
        "id": "J1KHB0G9DXbR",
        "colab_type": "text"
      },
      "source": [
        "## Backup Logs"
      ]
    },
    {
      "cell_type": "code",
      "metadata": {
        "id": "bjW-2vkM2gB6",
        "colab_type": "code",
        "colab": {}
      },
      "source": [
        "cp -r /content/CarDamageMaskRCNN/mask_rcnn_damage_detection/logs/damage20200729T0816 '/content/gdrive/My Drive/mask_rcnn'"
      ],
      "execution_count": null,
      "outputs": []
    },
    {
      "cell_type": "markdown",
      "metadata": {
        "id": "bhIatIFzYfjh",
        "colab_type": "text"
      },
      "source": [
        "# Inspect Custom Trained Model\n",
        "Code and visualizations to test, debug, and evaluate the Mask R-CNN model."
      ]
    },
    {
      "cell_type": "markdown",
      "metadata": {
        "id": "oRPzAT8gZtA2",
        "colab_type": "text"
      },
      "source": [
        "## Configurations"
      ]
    },
    {
      "cell_type": "code",
      "metadata": {
        "id": "orEAa7m0aiX9",
        "colab_type": "code",
        "colab": {}
      },
      "source": [
        "#from mrcnn.config import Config\n",
        "#from mrcnn import model as modellib, utils\n",
        "#from mrcnn.config2 import Config # Numthip change config file to config2.py that parameter will be Resnet50\n",
        "config = custom.CustomConfig()\n",
        "# custom_DIR = os.path.join(ROOT_DIR, \"mask_rcnn_damage_detection\\customImages\")\n",
        "CUSTOM_DIR = DEFAULT_DATASET\n",
        "\n",
        "print (\"CUSTOM_DIR\",CUSTOM_DIR)"
      ],
      "execution_count": null,
      "outputs": []
    },
    {
      "cell_type": "code",
      "metadata": {
        "id": "V_x83K20a-uI",
        "colab_type": "code",
        "colab": {}
      },
      "source": [
        "# Override the training configurations with a few\n",
        "# changes for inferencing.\n",
        "class InferenceConfig(config.__class__):\n",
        "    # Run detection on one image at a time\n",
        "    GPU_COUNT = 1\n",
        "    IMAGES_PER_GPU = 1\n",
        "\n",
        "config = InferenceConfig()\n",
        "config.display()"
      ],
      "execution_count": null,
      "outputs": []
    },
    {
      "cell_type": "markdown",
      "metadata": {
        "id": "nf7FPv-KbFBx",
        "colab_type": "text"
      },
      "source": [
        "## Notebook Preferences"
      ]
    },
    {
      "cell_type": "code",
      "metadata": {
        "id": "XEttvNYpbHtr",
        "colab_type": "code",
        "colab": {}
      },
      "source": [
        "# Device to load the neural network on.\n",
        "# Useful if you're training a model on the same \n",
        "# machine, in which case use CPU and leave the\n",
        "# GPU for training.\n",
        "DEVICE = \"/gpu:0\"  # /cpu:0 or /gpu:0\n",
        "\n",
        "# Inspect the model in training or inference modes\n",
        "# values: 'inference' or 'training'\n",
        "# TODO: code for 'training' test mode not ready yet\n",
        "TEST_MODE = \"inference\""
      ],
      "execution_count": null,
      "outputs": []
    },
    {
      "cell_type": "code",
      "metadata": {
        "id": "msxLbcSubEol",
        "colab_type": "code",
        "colab": {}
      },
      "source": [
        "def get_ax(rows=1, cols=1, size=16):\n",
        "    \"\"\"Return a Matplotlib Axes array to be used in\n",
        "    all visualizations in the notebook. Provide a\n",
        "    central point to control graph sizes.\n",
        "    \n",
        "    Adjust the size attribute to control how big to render images\n",
        "    \"\"\"\n",
        "    _, ax = plt.subplots(rows, cols, figsize=(size*cols, size*rows))\n",
        "    return ax"
      ],
      "execution_count": null,
      "outputs": []
    },
    {
      "cell_type": "markdown",
      "metadata": {
        "id": "v_706TRwbM73",
        "colab_type": "text"
      },
      "source": [
        "## Load Validation Dataset"
      ]
    },
    {
      "cell_type": "code",
      "metadata": {
        "id": "ZXpJ4VIlXmjs",
        "colab_type": "code",
        "colab": {}
      },
      "source": [
        "# Load validation dataset\n",
        "dataset = custom.CustomDataset()\n",
        "dataset.load_custom(CUSTOM_DIR, \"test\")\n",
        "\n",
        "# Must call before using the dataset\n",
        "dataset.prepare()\n",
        "\n",
        "print(\"Images: {}\\nClasses: {}\".format(len(dataset.image_ids), dataset.class_names))"
      ],
      "execution_count": null,
      "outputs": []
    },
    {
      "cell_type": "markdown",
      "metadata": {
        "id": "hYCSGvO4bY8m",
        "colab_type": "text"
      },
      "source": [
        "## Load Model"
      ]
    },
    {
      "cell_type": "code",
      "metadata": {
        "id": "SwiQvKlWbcWy",
        "colab_type": "code",
        "colab": {}
      },
      "source": [
        "# Create model in inference mode\n",
        "with tf.device(DEVICE):\n",
        "    model = modellib.MaskRCNN(mode=\"inference\", model_dir=MODEL_DIR,\n",
        "                              config=config)"
      ],
      "execution_count": null,
      "outputs": []
    },
    {
      "cell_type": "code",
      "metadata": {
        "id": "sn7OG6fJbhfj",
        "colab_type": "code",
        "colab": {}
      },
      "source": [
        "# load the last model you trained\n",
        "# weights_path = model.find_last()[1]\n",
        "\n",
        "# Load weights\n",
        "print(\"Loading weights \", CUSTOM_WEIGHTS_PATH)\n",
        "model.load_weights(CUSTOM_WEIGHTS_PATH, by_name=True)"
      ],
      "execution_count": null,
      "outputs": []
    },
    {
      "cell_type": "code",
      "metadata": {
        "id": "p68XY0wKbmgL",
        "colab_type": "code",
        "colab": {}
      },
      "source": [
        "from importlib import reload # was constantly changin the visualization, so I decided to reload it instead of notebook\n",
        "reload(visualize)"
      ],
      "execution_count": null,
      "outputs": []
    },
    {
      "cell_type": "markdown",
      "metadata": {
        "id": "0r_NGPP04Lcx",
        "colab_type": "text"
      },
      "source": [
        "## Evaluate Model mAP"
      ]
    },
    {
      "cell_type": "code",
      "metadata": {
        "id": "vUrg9BIA4lr2",
        "colab_type": "code",
        "colab": {}
      },
      "source": [
        "from mrcnn.utils import compute_ap\n",
        "class EvalImage():\n",
        "  def __init__(self,dataset,model,cfg):\n",
        "    self.dataset = dataset\n",
        "    self.model   = model\n",
        "    self.cfg     = cfg\n",
        "\n",
        " \n",
        "  def evaluate_model(self , len = 50):\n",
        "    APs = list()\n",
        "    precisions_dict = {}\n",
        "    recall_dict     = {}\n",
        "    for index,image_id in enumerate(self.dataset.image_ids):\n",
        "      if(index > len):\n",
        "         break; \n",
        "      # load image, bounding boxes and masks for the image id\n",
        "      image, image_meta, gt_class_id, gt_bbox, gt_mask = modellib.load_image_gt(self.dataset, self.cfg,image_id, use_mini_mask=False)\n",
        "      # convert pixel values (e.g. center)\n",
        "      #scaled_image = modellib.mold_image(image, self.cfg)\n",
        "      # convert image into one sample\n",
        "      sample = np.expand_dims(image, 0)\n",
        "     # print(len(image))\n",
        "      # make prediction\n",
        "      yhat = self.model.detect(sample, verbose=1)\n",
        "      # extract results for first sample\n",
        "      r = yhat[0]\n",
        "      # calculate statistics, including AP\n",
        "      AP, precisions, recalls, _ = compute_ap(gt_bbox, gt_class_id, gt_mask, r[\"rois\"], r[\"class_ids\"], r[\"scores\"], r['masks'])\n",
        "      precisions_dict[image_id] = np.mean(precisions)\n",
        "      recall_dict[image_id] = np.mean(recalls)\n",
        "      # store\n",
        "      APs.append(AP)\n",
        "\n",
        "    # calculate the mean AP across all images\n",
        "    mAP = np.mean(APs)\n",
        "    return mAP,precisions_dict,recall_dict"
      ],
      "execution_count": null,
      "outputs": []
    },
    {
      "cell_type": "code",
      "metadata": {
        "id": "8V7e67YD4pMJ",
        "colab_type": "code",
        "colab": {}
      },
      "source": [
        "# dataset_val = Dataset() \n",
        "# dataset_val.load_data_set(\"onion\",\"val_data\")\n",
        "# dataset_val.prepare()\n",
        "\n",
        "dataset_test = CustomDataset()\n",
        "dataset_test.load_custom(DEFAULT_DATASET, \"test\")\n",
        "dataset_test.prepare()"
      ],
      "execution_count": null,
      "outputs": []
    },
    {
      "cell_type": "code",
      "metadata": {
        "id": "EZFI-9Q95dpV",
        "colab_type": "code",
        "colab": {}
      },
      "source": [
        "# config = DataConfig()\n",
        "eval = EvalImage(dataset_test,model,config)"
      ],
      "execution_count": null,
      "outputs": []
    },
    {
      "cell_type": "code",
      "metadata": {
        "id": "QEDncgVZ5g1r",
        "colab_type": "code",
        "colab": {}
      },
      "source": [
        "eval.evaluate_model()"
      ],
      "execution_count": null,
      "outputs": []
    },
    {
      "cell_type": "code",
      "metadata": {
        "id": "ZcIy19xCYZmR",
        "colab_type": "code",
        "colab": {}
      },
      "source": [
        "import os\n",
        "import cv2\n",
        "import sys\n",
        "import random\n",
        "import math\n",
        "import re\n",
        "import time\n",
        "import numpy as np\n",
        "import tensorflow as tf\n",
        "import matplotlib\n",
        "import matplotlib.pyplot as plt\n",
        "import matplotlib.patches as patches\n",
        "import skimage\n",
        "import glob\n",
        "import warnings\n",
        "\n",
        "warnings.filterwarnings(\"ignore\")\n",
        "# Root directory of the project\n",
        "ROOT_DIR = os.getcwd()\n",
        "# ROOT_DIR = os.path.abspath(\"../\")\n",
        "# Import Mask RCNN\n",
        "sys.path.append(ROOT_DIR)  # To find local version of the library\n",
        "from mrcnn import utils\n",
        "from mrcnn import visualize\n",
        "from mrcnn.visualize import display_images\n",
        "import mrcnn.model as modellib\n",
        "from mrcnn.model import log\n",
        "\n",
        "import custom \n",
        "\n",
        "%matplotlib inline \n",
        "\n",
        "# Directory to save logs and trained model\n",
        "\n",
        "MODEL_DIR = os.path.join(ROOT_DIR, \"logs/damage20200729T0816\")  \n",
        "\n",
        "# custom_WEIGHTS_PATH = os.path.join(MODEL_DIR, \"mask_rcnn_damage_0010.h5\")\n",
        "CUSTOM_WEIGHTS_PATH = os.path.join(MODEL_DIR, \"mask_rcnn_damage_0008.h5\")\n",
        "\n",
        "\n",
        "print(\"root path:\", ROOT_DIR)\n",
        "print(\"MODEL_DIR:\", MODEL_DIR)\n",
        "print(\"CUSTOM_WEIGHTS_PATH:\", CUSTOM_WEIGHTS_PATH)"
      ],
      "execution_count": null,
      "outputs": []
    },
    {
      "cell_type": "markdown",
      "metadata": {
        "id": "fHnmQjKwdUJU",
        "colab_type": "text"
      },
      "source": [
        "## Run Detection on Images"
      ]
    },
    {
      "cell_type": "code",
      "metadata": {
        "id": "4ybE7kbNdb79",
        "colab_type": "code",
        "colab": {}
      },
      "source": [
        "#export TF_FORCE_GPU_ALLOW_GROWTH=True\n",
        "#config.gpu_options.allow_growth = True"
      ],
      "execution_count": null,
      "outputs": []
    },
    {
      "cell_type": "code",
      "metadata": {
        "id": "s26LkzondfFl",
        "colab_type": "code",
        "colab": {}
      },
      "source": [
        "image_id = random.choice(dataset.image_ids)\n",
        "image, image_meta, gt_class_id, gt_bbox, gt_mask =\\\n",
        "    modellib.load_image_gt(dataset, config, image_id, use_mini_mask=False)\n",
        "info = dataset.image_info[image_id]\n",
        "print(\"image ID: {}.{} ({}) {}\".format(info[\"source\"], info[\"id\"], image_id, \n",
        "                                       dataset.image_reference(image_id)))\n",
        "\n",
        "# Run object detection\n",
        "results = model.detect([image], verbose=1)\n",
        "\n",
        "# Display results\n",
        "ax = get_ax(1)\n",
        "r = results[0]\n",
        "visualize.display_instances(image, r['rois'], r['masks'], r['class_ids'], \n",
        "                            dataset.class_names, r['scores'], ax=ax,\n",
        "                            title=\"Predictions\")\n",
        "log(\"gt_class_id\", gt_class_id)\n",
        "log(\"gt_bbox\", gt_bbox)\n",
        "log(\"gt_mask\", gt_mask)"
      ],
      "execution_count": null,
      "outputs": []
    },
    {
      "cell_type": "markdown",
      "metadata": {
        "id": "MikY-Z_wdksZ",
        "colab_type": "text"
      },
      "source": [
        "## Plot precision-recall curve"
      ]
    },
    {
      "cell_type": "code",
      "metadata": {
        "id": "EjcbgH3Ddit8",
        "colab_type": "code",
        "colab": {}
      },
      "source": [
        "# Author Numthip k. on 20200706\n",
        "# For: Draw precision-recall curve\n",
        "AP, precisions, recalls, overlaps = utils.compute_ap(gt_bbox, gt_class_id, gt_mask,\n",
        "                                          r['rois'], r['class_ids'], r['scores'], r['masks'])\n",
        "visualize.plot_precision_recall(AP, precisions, recalls)\n",
        "# Add title and axis names\n",
        "#Author : numthip \n",
        "#for: add chart title \n",
        "plt.xlabel('recall')\n",
        "plt.ylabel('precision')"
      ],
      "execution_count": null,
      "outputs": []
    },
    {
      "cell_type": "code",
      "metadata": {
        "id": "7q83oOSFdrcE",
        "colab_type": "code",
        "colab": {}
      },
      "source": [
        "# Grid of ground truth objects and their predictions\n",
        "visualize.plot_overlaps(gt_class_id, r['class_ids'], r['scores'],\n",
        "                        overlaps, dataset.class_names)"
      ],
      "execution_count": null,
      "outputs": []
    },
    {
      "cell_type": "markdown",
      "metadata": {
        "id": "lwzzDEMkdvzI",
        "colab_type": "text"
      },
      "source": [
        "## Compute mAP @ IoU=50 on Batch of Images"
      ]
    },
    {
      "cell_type": "code",
      "metadata": {
        "id": "wCrdnYHAXI3P",
        "colab_type": "code",
        "colab": {}
      },
      "source": [
        "def compute_batch_ap(image_ids):\n",
        "    APs = []\n",
        "    for image_id in image_ids:\n",
        "        # Load image\n",
        "        image, image_meta, gt_class_id, gt_bbox, gt_mask =\\\n",
        "            modellib.load_image_gt(dataset, config,\n",
        "                                   image_id, use_mini_mask=False)\n",
        "        # Run object detection\n",
        "        results = model.detect([image], verbose=0)\n",
        "        # Compute AP\n",
        "        r = results[0]\n",
        "        AP, precisions, recalls, overlaps =\\\n",
        "            utils.compute_ap(gt_bbox, gt_class_id, gt_mask,\n",
        "                              r['rois'], r['class_ids'], r['scores'], r['masks'])\n",
        "        APs.append(AP)\n",
        "    return APs\n",
        "\n",
        "# Pick a set of random images\n",
        "# 20200719 Numthip revise len(dataset.image_ids) from 10\n",
        "image_ids = np.random.choice(dataset.image_ids, len(dataset.image_ids))\n",
        "print (image_ids)\n",
        "APs = compute_batch_ap(image_ids)\n",
        "\n",
        "print(\"mAP @ IoU=50: \", np.mean(APs))"
      ],
      "execution_count": null,
      "outputs": []
    },
    {
      "cell_type": "markdown",
      "metadata": {
        "id": "FEoyrCILd0T7",
        "colab_type": "text"
      },
      "source": [
        "## Test Model with The real test data"
      ]
    },
    {
      "cell_type": "code",
      "metadata": {
        "id": "EV0B2_Tyd4BO",
        "colab_type": "code",
        "colab": {}
      },
      "source": [
        "\n",
        "# Load validation dataset\n",
        "# real_test_dir = custom.CustomDataset()\n",
        "# real_test_dir.load_custom(CUSTOM_DIR, \"test\")\n",
        "\n",
        "# Must call before using the dataset\n",
        "#real_test_dir.prepare()\n",
        "# real_test_dir = custom.CustomConfig()\n",
        "real_test_dir = os.path.join(CUSTOM_DIR, \"test\")\n",
        "#real_test_dir = '..\\customImages\\val'\n",
        "\n",
        "print (real_test_dir) \n",
        "\n",
        "#image_path = \"dataset/{0:04}.JPEG\".format(random_file) # Input Image path\n",
        "image_paths = []\n",
        "for filename in os.listdir(real_test_dir):\n",
        "    if os.path.splitext(filename)[1].lower() in ['.png', '.jpg', '.jpeg']:\n",
        "        image_paths.append(os.path.join(real_test_dir, filename))\n",
        "\n",
        "for image_path in image_paths:\n",
        "    img = skimage.io.imread(image_path)\n",
        "    img_arr = np.array(img)\n",
        "    results = model.detect([img_arr], verbose=1)\n",
        "    r = results[0]\n",
        "    visualize.display_instances(img, r['rois'], r['masks'], r['class_ids'], \n",
        "                                dataset.class_names, r['scores'], figsize=(7,7))"
      ],
      "execution_count": null,
      "outputs": []
    }
  ]
}